{
  "nbformat": 4,
  "nbformat_minor": 0,
  "metadata": {
    "colab": {
      "name": "SmartKnower Major Project .ipynb",
      "provenance": [],
      "mount_file_id": "15bz06plGRSKU7lX29nvqIoLbQ6_4m0Mf",
      "authorship_tag": "ABX9TyMPPXHefYp2+TurmlLH7HRa",
      "include_colab_link": true
    },
    "kernelspec": {
      "name": "python3",
      "display_name": "Python 3"
    }
  },
  "cells": [
    {
      "cell_type": "markdown",
      "metadata": {
        "id": "view-in-github",
        "colab_type": "text"
      },
      "source": [
        "<a href=\"https://colab.research.google.com/github/dileepchandhra/SENTIMENT-ANALYSIS/blob/main/SmartKnower_Major_Project_.ipynb\" target=\"_parent\"><img src=\"https://colab.research.google.com/assets/colab-badge.svg\" alt=\"Open In Colab\"/></a>"
      ]
    },
    {
      "cell_type": "code",
      "metadata": {
        "colab": {
          "base_uri": "https://localhost:8080/"
        },
        "id": "0Yj8DfCCMP86",
        "outputId": "c5c1c7d8-5ec5-4a88-9025-0d87cfbfb15b"
      },
      "source": [
        "import pandas as pd\r\n",
        "import numpy as np\r\n",
        "from sklearn.feature_extraction.text import TfidfVectorizer\r\n",
        "import tensorflow as tf\r\n",
        "from tensorflow import keras\r\n",
        "\r\n",
        "import nltk\r\n",
        "nltk.download('stopwords')\r\n",
        "from nltk.corpus import stopwords\r\n",
        "import nltk\r\n",
        "from nltk.tokenize import RegexpTokenizer\r\n",
        "from nltk.stem import WordNetLemmatizer\r\n",
        "from nltk.stem.porter import PorterStemmer\r\n",
        "\r\n",
        "from sklearn.feature_extraction.text import TfidfVectorizer\r\n",
        "from sklearn.model_selection import train_test_split"
      ],
      "execution_count": 1,
      "outputs": [
        {
          "output_type": "stream",
          "text": [
            "[nltk_data] Downloading package stopwords to /root/nltk_data...\n",
            "[nltk_data]   Unzipping corpora/stopwords.zip.\n"
          ],
          "name": "stdout"
        }
      ]
    },
    {
      "cell_type": "code",
      "metadata": {
        "colab": {
          "base_uri": "https://localhost:8080/",
          "height": 197
        },
        "id": "fpakUv3zMeEQ",
        "outputId": "b2306678-4a39-461a-e74e-e047a102742a"
      },
      "source": [
        "df = pd.read_csv('/content/drive/MyDrive/data.csv')\r\n",
        "df.head()"
      ],
      "execution_count": 2,
      "outputs": [
        {
          "output_type": "execute_result",
          "data": {
            "text/html": [
              "<div>\n",
              "<style scoped>\n",
              "    .dataframe tbody tr th:only-of-type {\n",
              "        vertical-align: middle;\n",
              "    }\n",
              "\n",
              "    .dataframe tbody tr th {\n",
              "        vertical-align: top;\n",
              "    }\n",
              "\n",
              "    .dataframe thead th {\n",
              "        text-align: right;\n",
              "    }\n",
              "</style>\n",
              "<table border=\"1\" class=\"dataframe\">\n",
              "  <thead>\n",
              "    <tr style=\"text-align: right;\">\n",
              "      <th></th>\n",
              "      <th>review</th>\n",
              "      <th>rating</th>\n",
              "    </tr>\n",
              "  </thead>\n",
              "  <tbody>\n",
              "    <tr>\n",
              "      <th>0</th>\n",
              "      <td>It was nice produt. I like it's design a lot. ...</td>\n",
              "      <td>5</td>\n",
              "    </tr>\n",
              "    <tr>\n",
              "      <th>1</th>\n",
              "      <td>awesome sound....very pretty to see this nd th...</td>\n",
              "      <td>5</td>\n",
              "    </tr>\n",
              "    <tr>\n",
              "      <th>2</th>\n",
              "      <td>awesome sound quality. pros 7-8 hrs of battery...</td>\n",
              "      <td>4</td>\n",
              "    </tr>\n",
              "    <tr>\n",
              "      <th>3</th>\n",
              "      <td>I think it is such a good product not only as ...</td>\n",
              "      <td>5</td>\n",
              "    </tr>\n",
              "    <tr>\n",
              "      <th>4</th>\n",
              "      <td>awesome bass sound quality very good bettary l...</td>\n",
              "      <td>5</td>\n",
              "    </tr>\n",
              "  </tbody>\n",
              "</table>\n",
              "</div>"
            ],
            "text/plain": [
              "                                              review  rating\n",
              "0  It was nice produt. I like it's design a lot. ...       5\n",
              "1  awesome sound....very pretty to see this nd th...       5\n",
              "2  awesome sound quality. pros 7-8 hrs of battery...       4\n",
              "3  I think it is such a good product not only as ...       5\n",
              "4  awesome bass sound quality very good bettary l...       5"
            ]
          },
          "metadata": {
            "tags": []
          },
          "execution_count": 2
        }
      ]
    },
    {
      "cell_type": "code",
      "metadata": {
        "colab": {
          "base_uri": "https://localhost:8080/",
          "height": 407
        },
        "id": "kTJyYA26MrDz",
        "outputId": "317470a2-b85b-4be9-cffb-c250ac527edf"
      },
      "source": [
        "import string\r\n",
        "\r\n",
        "def remove_punctuations(text):\r\n",
        "    for punctuation in string.punctuation:\r\n",
        "        text = text.replace(punctuation, '')\r\n",
        "    return text\r\n",
        "\r\n",
        "df['review'] = df['review'].apply(remove_punctuations)\r\n",
        "df"
      ],
      "execution_count": 3,
      "outputs": [
        {
          "output_type": "execute_result",
          "data": {
            "text/html": [
              "<div>\n",
              "<style scoped>\n",
              "    .dataframe tbody tr th:only-of-type {\n",
              "        vertical-align: middle;\n",
              "    }\n",
              "\n",
              "    .dataframe tbody tr th {\n",
              "        vertical-align: top;\n",
              "    }\n",
              "\n",
              "    .dataframe thead th {\n",
              "        text-align: right;\n",
              "    }\n",
              "</style>\n",
              "<table border=\"1\" class=\"dataframe\">\n",
              "  <thead>\n",
              "    <tr style=\"text-align: right;\">\n",
              "      <th></th>\n",
              "      <th>review</th>\n",
              "      <th>rating</th>\n",
              "    </tr>\n",
              "  </thead>\n",
              "  <tbody>\n",
              "    <tr>\n",
              "      <th>0</th>\n",
              "      <td>It was nice produt I like its design a lot  It...</td>\n",
              "      <td>5</td>\n",
              "    </tr>\n",
              "    <tr>\n",
              "      <th>1</th>\n",
              "      <td>awesome soundvery pretty to see this nd the so...</td>\n",
              "      <td>5</td>\n",
              "    </tr>\n",
              "    <tr>\n",
              "      <th>2</th>\n",
              "      <td>awesome sound quality pros 78 hrs of battery l...</td>\n",
              "      <td>4</td>\n",
              "    </tr>\n",
              "    <tr>\n",
              "      <th>3</th>\n",
              "      <td>I think it is such a good product not only as ...</td>\n",
              "      <td>5</td>\n",
              "    </tr>\n",
              "    <tr>\n",
              "      <th>4</th>\n",
              "      <td>awesome bass sound quality very good bettary l...</td>\n",
              "      <td>5</td>\n",
              "    </tr>\n",
              "    <tr>\n",
              "      <th>...</th>\n",
              "      <td>...</td>\n",
              "      <td>...</td>\n",
              "    </tr>\n",
              "    <tr>\n",
              "      <th>9971</th>\n",
              "      <td>GoodREAD MORE</td>\n",
              "      <td>5</td>\n",
              "    </tr>\n",
              "    <tr>\n",
              "      <th>9972</th>\n",
              "      <td>Everything is amazimg but the built is very li...</td>\n",
              "      <td>5</td>\n",
              "    </tr>\n",
              "    <tr>\n",
              "      <th>9973</th>\n",
              "      <td>GoodREAD MORE</td>\n",
              "      <td>5</td>\n",
              "    </tr>\n",
              "    <tr>\n",
              "      <th>9974</th>\n",
              "      <td>Best headphone i have ever usedREAD MORE</td>\n",
              "      <td>5</td>\n",
              "    </tr>\n",
              "    <tr>\n",
              "      <th>9975</th>\n",
              "      <td>NiceREAD MORE</td>\n",
              "      <td>5</td>\n",
              "    </tr>\n",
              "  </tbody>\n",
              "</table>\n",
              "<p>9976 rows × 2 columns</p>\n",
              "</div>"
            ],
            "text/plain": [
              "                                                 review  rating\n",
              "0     It was nice produt I like its design a lot  It...       5\n",
              "1     awesome soundvery pretty to see this nd the so...       5\n",
              "2     awesome sound quality pros 78 hrs of battery l...       4\n",
              "3     I think it is such a good product not only as ...       5\n",
              "4     awesome bass sound quality very good bettary l...       5\n",
              "...                                                 ...     ...\n",
              "9971                                      GoodREAD MORE       5\n",
              "9972  Everything is amazimg but the built is very li...       5\n",
              "9973                                      GoodREAD MORE       5\n",
              "9974           Best headphone i have ever usedREAD MORE       5\n",
              "9975                                      NiceREAD MORE       5\n",
              "\n",
              "[9976 rows x 2 columns]"
            ]
          },
          "metadata": {
            "tags": []
          },
          "execution_count": 3
        }
      ]
    },
    {
      "cell_type": "code",
      "metadata": {
        "colab": {
          "base_uri": "https://localhost:8080/",
          "height": 35
        },
        "id": "GB6di0_sMxQW",
        "outputId": "6b6a19c9-ce46-4816-c2b1-93ad81e287da"
      },
      "source": [
        "string.punctuation"
      ],
      "execution_count": 4,
      "outputs": [
        {
          "output_type": "execute_result",
          "data": {
            "application/vnd.google.colaboratory.intrinsic+json": {
              "type": "string"
            },
            "text/plain": [
              "'!\"#$%&\\'()*+,-./:;<=>?@[\\\\]^_`{|}~'"
            ]
          },
          "metadata": {
            "tags": []
          },
          "execution_count": 4
        }
      ]
    },
    {
      "cell_type": "code",
      "metadata": {
        "colab": {
          "base_uri": "https://localhost:8080/"
        },
        "id": "HPm2TKlAM048",
        "outputId": "bcf8fef0-d32b-40a8-896d-3e3d9de9a5ec"
      },
      "source": [
        "tokenizer=RegexpTokenizer(r'\\w+')\r\n",
        "df['review']=df['review'].apply(lambda x: tokenizer.tokenize(x.lower()))\r\n",
        "df['review']"
      ],
      "execution_count": 5,
      "outputs": [
        {
          "output_type": "execute_result",
          "data": {
            "text/plain": [
              "0       [it, was, nice, produt, i, like, its, design, ...\n",
              "1       [awesome, soundvery, pretty, to, see, this, nd...\n",
              "2       [awesome, sound, quality, pros, 78, hrs, of, b...\n",
              "3       [i, think, it, is, such, a, good, product, not...\n",
              "4       [awesome, bass, sound, quality, very, good, be...\n",
              "                              ...                        \n",
              "9971                                     [goodread, more]\n",
              "9972    [everything, is, amazimg, but, the, built, is,...\n",
              "9973                                     [goodread, more]\n",
              "9974     [best, headphone, i, have, ever, usedread, more]\n",
              "9975                                     [niceread, more]\n",
              "Name: review, Length: 9976, dtype: object"
            ]
          },
          "metadata": {
            "tags": []
          },
          "execution_count": 5
        }
      ]
    },
    {
      "cell_type": "code",
      "metadata": {
        "id": "3KNNKYnEM38N"
      },
      "source": [
        "# def removestopwords(s):\r\n",
        "#   words=[i for i in s if i not in stopwords.words('english')]\r\n",
        "#   print(words)\r\n",
        "#   return words\r\n",
        "\r\n",
        "# df['review']=df['review'].apply(lambda x: removestopwords(x))\r\n",
        "# df['review']\r\n",
        "\r\n",
        "# #takes lots of time here so be patient here"
      ],
      "execution_count": 6,
      "outputs": []
    },
    {
      "cell_type": "code",
      "metadata": {
        "colab": {
          "base_uri": "https://localhost:8080/"
        },
        "id": "00RC98MkNDbB",
        "outputId": "7f9213a9-7dd0-4c25-a9a5-24da88280c75"
      },
      "source": [
        "stopwords.words(\"english\")"
      ],
      "execution_count": 7,
      "outputs": [
        {
          "output_type": "execute_result",
          "data": {
            "text/plain": [
              "['i',\n",
              " 'me',\n",
              " 'my',\n",
              " 'myself',\n",
              " 'we',\n",
              " 'our',\n",
              " 'ours',\n",
              " 'ourselves',\n",
              " 'you',\n",
              " \"you're\",\n",
              " \"you've\",\n",
              " \"you'll\",\n",
              " \"you'd\",\n",
              " 'your',\n",
              " 'yours',\n",
              " 'yourself',\n",
              " 'yourselves',\n",
              " 'he',\n",
              " 'him',\n",
              " 'his',\n",
              " 'himself',\n",
              " 'she',\n",
              " \"she's\",\n",
              " 'her',\n",
              " 'hers',\n",
              " 'herself',\n",
              " 'it',\n",
              " \"it's\",\n",
              " 'its',\n",
              " 'itself',\n",
              " 'they',\n",
              " 'them',\n",
              " 'their',\n",
              " 'theirs',\n",
              " 'themselves',\n",
              " 'what',\n",
              " 'which',\n",
              " 'who',\n",
              " 'whom',\n",
              " 'this',\n",
              " 'that',\n",
              " \"that'll\",\n",
              " 'these',\n",
              " 'those',\n",
              " 'am',\n",
              " 'is',\n",
              " 'are',\n",
              " 'was',\n",
              " 'were',\n",
              " 'be',\n",
              " 'been',\n",
              " 'being',\n",
              " 'have',\n",
              " 'has',\n",
              " 'had',\n",
              " 'having',\n",
              " 'do',\n",
              " 'does',\n",
              " 'did',\n",
              " 'doing',\n",
              " 'a',\n",
              " 'an',\n",
              " 'the',\n",
              " 'and',\n",
              " 'but',\n",
              " 'if',\n",
              " 'or',\n",
              " 'because',\n",
              " 'as',\n",
              " 'until',\n",
              " 'while',\n",
              " 'of',\n",
              " 'at',\n",
              " 'by',\n",
              " 'for',\n",
              " 'with',\n",
              " 'about',\n",
              " 'against',\n",
              " 'between',\n",
              " 'into',\n",
              " 'through',\n",
              " 'during',\n",
              " 'before',\n",
              " 'after',\n",
              " 'above',\n",
              " 'below',\n",
              " 'to',\n",
              " 'from',\n",
              " 'up',\n",
              " 'down',\n",
              " 'in',\n",
              " 'out',\n",
              " 'on',\n",
              " 'off',\n",
              " 'over',\n",
              " 'under',\n",
              " 'again',\n",
              " 'further',\n",
              " 'then',\n",
              " 'once',\n",
              " 'here',\n",
              " 'there',\n",
              " 'when',\n",
              " 'where',\n",
              " 'why',\n",
              " 'how',\n",
              " 'all',\n",
              " 'any',\n",
              " 'both',\n",
              " 'each',\n",
              " 'few',\n",
              " 'more',\n",
              " 'most',\n",
              " 'other',\n",
              " 'some',\n",
              " 'such',\n",
              " 'no',\n",
              " 'nor',\n",
              " 'not',\n",
              " 'only',\n",
              " 'own',\n",
              " 'same',\n",
              " 'so',\n",
              " 'than',\n",
              " 'too',\n",
              " 'very',\n",
              " 's',\n",
              " 't',\n",
              " 'can',\n",
              " 'will',\n",
              " 'just',\n",
              " 'don',\n",
              " \"don't\",\n",
              " 'should',\n",
              " \"should've\",\n",
              " 'now',\n",
              " 'd',\n",
              " 'll',\n",
              " 'm',\n",
              " 'o',\n",
              " 're',\n",
              " 've',\n",
              " 'y',\n",
              " 'ain',\n",
              " 'aren',\n",
              " \"aren't\",\n",
              " 'couldn',\n",
              " \"couldn't\",\n",
              " 'didn',\n",
              " \"didn't\",\n",
              " 'doesn',\n",
              " \"doesn't\",\n",
              " 'hadn',\n",
              " \"hadn't\",\n",
              " 'hasn',\n",
              " \"hasn't\",\n",
              " 'haven',\n",
              " \"haven't\",\n",
              " 'isn',\n",
              " \"isn't\",\n",
              " 'ma',\n",
              " 'mightn',\n",
              " \"mightn't\",\n",
              " 'mustn',\n",
              " \"mustn't\",\n",
              " 'needn',\n",
              " \"needn't\",\n",
              " 'shan',\n",
              " \"shan't\",\n",
              " 'shouldn',\n",
              " \"shouldn't\",\n",
              " 'wasn',\n",
              " \"wasn't\",\n",
              " 'weren',\n",
              " \"weren't\",\n",
              " 'won',\n",
              " \"won't\",\n",
              " 'wouldn',\n",
              " \"wouldn't\"]"
            ]
          },
          "metadata": {
            "tags": []
          },
          "execution_count": 7
        }
      ]
    },
    {
      "cell_type": "code",
      "metadata": {
        "colab": {
          "base_uri": "https://localhost:8080/"
        },
        "id": "KM1crlzyNHky",
        "outputId": "7f2def0e-ebc9-4e48-887d-e8e613ba8e6a"
      },
      "source": [
        "x = df.iloc[:,0].values\r\n",
        "y = df.iloc[:,1].values\r\n",
        "print(x)\r\n",
        "print(y)"
      ],
      "execution_count": 8,
      "outputs": [
        {
          "output_type": "stream",
          "text": [
            "[list(['it', 'was', 'nice', 'produt', 'i', 'like', 'its', 'design', 'a', 'lot', 'its', 'easy', 'to', 'carry', 'and', 'looked', 'stylishread', 'more'])\n",
            " list(['awesome', 'soundvery', 'pretty', 'to', 'see', 'this', 'nd', 'the', 'sound', 'quality', 'was', 'too', 'good', 'i', 'wish', 'to', 'take', 'this', 'product', 'loved', 'this', 'product', 'read', 'more'])\n",
            " list(['awesome', 'sound', 'quality', 'pros', '78', 'hrs', 'of', 'battery', 'life', 'including', '45', 'mins', 'approx', 'call', 'timeawesome', 'sound', 'output', 'bass', 'and', 'treble', 'are', 'really', 'very', 'clear', 'without', 'equaliser', 'with', 'equaliser', 'sound', 'wary', 'depends', 'on', 'the', 'handset', 'sound', 'qualityweightless', 'to', 'carry', 'and', 'in', 'head', 'toomic', 'is', 'good', 'but', 'in', 'traffic', 'it', 'is', 'not', 'too', 'good', '325535mm', 'option', 'is', 'really', 'important', 'to', 'mention', 'really', 'expecting', 'other', 'leading', 'brands', 'to', 'implement', 'thisconsvery', 'tight', 'in', 'ears', 'adjusters', 'are', 'ok', 'this', 'll', 'be', 'very', 'tightread', 'more'])\n",
            " ... list(['goodread', 'more'])\n",
            " list(['best', 'headphone', 'i', 'have', 'ever', 'usedread', 'more'])\n",
            " list(['niceread', 'more'])]\n",
            "[5 5 4 ... 5 5 5]\n"
          ],
          "name": "stdout"
        }
      ]
    },
    {
      "cell_type": "code",
      "metadata": {
        "colab": {
          "base_uri": "https://localhost:8080/"
        },
        "id": "YRhW5mX-NIl0",
        "outputId": "f13b175d-5311-4258-a081-ce0744a6f352"
      },
      "source": [
        "len(x)"
      ],
      "execution_count": 9,
      "outputs": [
        {
          "output_type": "execute_result",
          "data": {
            "text/plain": [
              "9976"
            ]
          },
          "metadata": {
            "tags": []
          },
          "execution_count": 9
        }
      ]
    },
    {
      "cell_type": "code",
      "metadata": {
        "id": "w1IAmAnXNO6P"
      },
      "source": [
        "def dummy_fun(doc):\r\n",
        "    return doc\r\n",
        "\r\n",
        "vectorizer = TfidfVectorizer(\r\n",
        "    analyzer='word',\r\n",
        "    tokenizer=dummy_fun,\r\n",
        "    preprocessor=dummy_fun,\r\n",
        "    token_pattern=None)  \r\n",
        "\r\n",
        "x = vectorizer.fit_transform(x)"
      ],
      "execution_count": 10,
      "outputs": []
    },
    {
      "cell_type": "code",
      "metadata": {
        "id": "XxTmdPj9NUb6"
      },
      "source": [
        "x = x.toarray()"
      ],
      "execution_count": 11,
      "outputs": []
    },
    {
      "cell_type": "code",
      "metadata": {
        "colab": {
          "base_uri": "https://localhost:8080/"
        },
        "id": "QYznZFXYNXYk",
        "outputId": "663bca22-efc5-4f1b-af60-d68da7eb0f8b"
      },
      "source": [
        "\r\n",
        "x.shape"
      ],
      "execution_count": 12,
      "outputs": [
        {
          "output_type": "execute_result",
          "data": {
            "text/plain": [
              "(9976, 9932)"
            ]
          },
          "metadata": {
            "tags": []
          },
          "execution_count": 12
        }
      ]
    },
    {
      "cell_type": "code",
      "metadata": {
        "id": "N1JGnSJtNZ7Q"
      },
      "source": [
        "\r\n",
        "x_train,x_test,y_train,y_test = train_test_split(x,y,test_size = 0.25,random_state = 0,stratify = y)"
      ],
      "execution_count": 13,
      "outputs": []
    },
    {
      "cell_type": "code",
      "metadata": {
        "colab": {
          "base_uri": "https://localhost:8080/"
        },
        "id": "VEYTXH9RNdSx",
        "outputId": "04a5e47c-d231-4327-e2b9-ece5da9bec2f"
      },
      "source": [
        "print(x_train.shape)\r\n",
        "print(y_train.shape)\r\n",
        "print(x_test.shape)\r\n",
        "print(y_test.shape)"
      ],
      "execution_count": 14,
      "outputs": [
        {
          "output_type": "stream",
          "text": [
            "(7482, 9932)\n",
            "(7482,)\n",
            "(2494, 9932)\n",
            "(2494,)\n"
          ],
          "name": "stdout"
        }
      ]
    },
    {
      "cell_type": "code",
      "metadata": {
        "colab": {
          "base_uri": "https://localhost:8080/"
        },
        "id": "gqR4rSMFNgrD",
        "outputId": "54e754a5-6315-4a2e-eb07-a8002807e5b6"
      },
      "source": [
        "np.unique(y_train)"
      ],
      "execution_count": 15,
      "outputs": [
        {
          "output_type": "execute_result",
          "data": {
            "text/plain": [
              "array([1, 2, 3, 4, 5])"
            ]
          },
          "metadata": {
            "tags": []
          },
          "execution_count": 15
        }
      ]
    },
    {
      "cell_type": "code",
      "metadata": {
        "id": "1ikKtI_iNjfh"
      },
      "source": [
        "# from sklearn.pipeline import Pipeline\r\n",
        "# from sklearn.feature_extraction.text import TfidfVectorizer\r\n",
        "# from sklearn.svm import SVC"
      ],
      "execution_count": 16,
      "outputs": []
    },
    {
      "cell_type": "code",
      "metadata": {
        "id": "wg4wtkUpNmRT"
      },
      "source": [
        "# text_model = Pipeline([('tfidf',TfidfVectorizer()),('model',SVC())]) "
      ],
      "execution_count": 17,
      "outputs": []
    },
    {
      "cell_type": "code",
      "metadata": {
        "id": "7PXHdRNnNo5M"
      },
      "source": [
        "# text_model.fit(x_train,y_train)"
      ],
      "execution_count": 18,
      "outputs": []
    },
    {
      "cell_type": "code",
      "metadata": {
        "id": "a4ahWep0NsW-"
      },
      "source": [
        "# y_pred = text_model.predict(x_test)\r\n",
        "# y_pred"
      ],
      "execution_count": 19,
      "outputs": []
    },
    {
      "cell_type": "code",
      "metadata": {
        "id": "M01JONZFNxGX"
      },
      "source": [
        "# from sklearn.metrics import accuracy_score,classification_report,confusion_matrix\r\n",
        "# accuracy_score(y_pred,y_test)*100"
      ],
      "execution_count": 20,
      "outputs": []
    },
    {
      "cell_type": "code",
      "metadata": {
        "id": "3JkwfRZ5N0qX"
      },
      "source": [
        "# confusion_matrix(y_pred,y_test)"
      ],
      "execution_count": 21,
      "outputs": []
    },
    {
      "cell_type": "code",
      "metadata": {
        "id": "kNXoASkEN36l"
      },
      "source": [
        "# print(classification_report(y_pred,y_test))"
      ],
      "execution_count": 22,
      "outputs": []
    },
    {
      "cell_type": "code",
      "metadata": {
        "id": "Q6ZcP34TN6lT"
      },
      "source": [
        "# text_model.predict([\"Very bad product.  Within 5 days it's mic was out of work. I am very disappointed tobuythisproduct. I will never suggest to anyone for buying this product.\"])"
      ],
      "execution_count": 23,
      "outputs": []
    },
    {
      "cell_type": "code",
      "metadata": {
        "id": "K5fpriH0N-IQ"
      },
      "source": [
        "y_train_1 = keras.utils.to_categorical(y_train)\r\n",
        "y_test_1 = keras.utils.to_categorical(y_test)"
      ],
      "execution_count": 24,
      "outputs": []
    },
    {
      "cell_type": "code",
      "metadata": {
        "id": "aO1gQ9zuOAzE"
      },
      "source": [
        "y_train_1 = y_train_1[:, 1:]\r\n",
        "y_test_1 = y_test_1[:, 1:]"
      ],
      "execution_count": 25,
      "outputs": []
    },
    {
      "cell_type": "code",
      "metadata": {
        "colab": {
          "base_uri": "https://localhost:8080/"
        },
        "id": "ST8FQ0JBODdT",
        "outputId": "d073f474-1998-4ef3-f217-868c725982b5"
      },
      "source": [
        "\r\n",
        "y_train_1.shape"
      ],
      "execution_count": 26,
      "outputs": [
        {
          "output_type": "execute_result",
          "data": {
            "text/plain": [
              "(7482, 5)"
            ]
          },
          "metadata": {
            "tags": []
          },
          "execution_count": 26
        }
      ]
    },
    {
      "cell_type": "code",
      "metadata": {
        "colab": {
          "base_uri": "https://localhost:8080/"
        },
        "id": "euBGB3f5OGcS",
        "outputId": "0a959796-7266-4ed8-add2-90c2ff3927ce"
      },
      "source": [
        "y_test_1.shape"
      ],
      "execution_count": 27,
      "outputs": [
        {
          "output_type": "execute_result",
          "data": {
            "text/plain": [
              "(2494, 5)"
            ]
          },
          "metadata": {
            "tags": []
          },
          "execution_count": 27
        }
      ]
    },
    {
      "cell_type": "code",
      "metadata": {
        "id": "agWIfetmOKjL"
      },
      "source": [
        "model = keras.models.Sequential([keras.layers.BatchNormalization(input_dim=x_train.shape[1]),\r\n",
        "                                 keras.layers.Dense(100,kernel_initializer=\"he_normal\"),\r\n",
        "                                 keras.layers.PReLU(),\r\n",
        "                                 keras.layers.BatchNormalization(),\r\n",
        "                                 keras.layers.Dropout(0.2),\r\n",
        "                                 keras.layers.Dense(50,kernel_initializer=\"he_normal\"),\r\n",
        "                                 keras.layers.PReLU(),\r\n",
        "                                 keras.layers.BatchNormalization(),\r\n",
        "                                 keras.layers.Dense(5, \"softmax\"),\r\n",
        "                                 ])\r\n",
        "\r\n",
        "model.compile(loss=\"categorical_crossentropy\",\r\n",
        "              optimizer=keras.optimizers.Adam(),\r\n",
        "              metrics=[\"accuracy\"])\r\n",
        "\r\n",
        "early_stopping_cb = keras.callbacks.EarlyStopping(patience=10, restore_best_weights=True)\r\n",
        "\r\n"
      ],
      "execution_count": 28,
      "outputs": []
    },
    {
      "cell_type": "code",
      "metadata": {
        "colab": {
          "base_uri": "https://localhost:8080/"
        },
        "id": "sRPIrFlpOPv0",
        "outputId": "b84c82ba-efee-494a-815e-e8aaf5f09c33"
      },
      "source": [
        "model.summary()"
      ],
      "execution_count": 29,
      "outputs": [
        {
          "output_type": "stream",
          "text": [
            "Model: \"sequential\"\n",
            "_________________________________________________________________\n",
            "Layer (type)                 Output Shape              Param #   \n",
            "=================================================================\n",
            "batch_normalization (BatchNo (None, 9932)              39728     \n",
            "_________________________________________________________________\n",
            "dense (Dense)                (None, 100)               993300    \n",
            "_________________________________________________________________\n",
            "p_re_lu (PReLU)              (None, 100)               100       \n",
            "_________________________________________________________________\n",
            "batch_normalization_1 (Batch (None, 100)               400       \n",
            "_________________________________________________________________\n",
            "dropout (Dropout)            (None, 100)               0         \n",
            "_________________________________________________________________\n",
            "dense_1 (Dense)              (None, 50)                5050      \n",
            "_________________________________________________________________\n",
            "p_re_lu_1 (PReLU)            (None, 50)                50        \n",
            "_________________________________________________________________\n",
            "batch_normalization_2 (Batch (None, 50)                200       \n",
            "_________________________________________________________________\n",
            "dense_2 (Dense)              (None, 5)                 255       \n",
            "=================================================================\n",
            "Total params: 1,039,083\n",
            "Trainable params: 1,018,919\n",
            "Non-trainable params: 20,164\n",
            "_________________________________________________________________\n"
          ],
          "name": "stdout"
        }
      ]
    },
    {
      "cell_type": "code",
      "metadata": {
        "colab": {
          "base_uri": "https://localhost:8080/"
        },
        "id": "CecQFFKKOTRP",
        "outputId": "a7f3a3e1-39e2-4f1b-b089-0694003916cd"
      },
      "source": [
        "history = model.fit(x_train, y_train_1, validation_data=(x_test, y_test_1), epochs=50, callbacks=[early_stopping_cb])"
      ],
      "execution_count": 30,
      "outputs": [
        {
          "output_type": "stream",
          "text": [
            "Epoch 1/50\n",
            "234/234 [==============================] - 6s 18ms/step - loss: 1.5483 - accuracy: 0.4582 - val_loss: 1.1482 - val_accuracy: 0.5738\n",
            "Epoch 2/50\n",
            "234/234 [==============================] - 4s 15ms/step - loss: 0.7270 - accuracy: 0.7395 - val_loss: 0.9415 - val_accuracy: 0.6399\n",
            "Epoch 3/50\n",
            "234/234 [==============================] - 4s 15ms/step - loss: 0.5390 - accuracy: 0.8091 - val_loss: 1.3047 - val_accuracy: 0.5954\n",
            "Epoch 4/50\n",
            "234/234 [==============================] - 4s 16ms/step - loss: 0.4711 - accuracy: 0.8304 - val_loss: 2.0333 - val_accuracy: 0.3837\n",
            "Epoch 5/50\n",
            "234/234 [==============================] - 4s 15ms/step - loss: 0.4141 - accuracy: 0.8467 - val_loss: 1.6843 - val_accuracy: 0.5906\n",
            "Epoch 6/50\n",
            "234/234 [==============================] - 4s 16ms/step - loss: 0.3892 - accuracy: 0.8543 - val_loss: 1.9373 - val_accuracy: 0.5229\n",
            "Epoch 7/50\n",
            "234/234 [==============================] - 4s 16ms/step - loss: 0.3573 - accuracy: 0.8646 - val_loss: 2.0440 - val_accuracy: 0.5164\n",
            "Epoch 8/50\n",
            "234/234 [==============================] - 4s 15ms/step - loss: 0.3443 - accuracy: 0.8763 - val_loss: 2.9598 - val_accuracy: 0.3508\n",
            "Epoch 9/50\n",
            "234/234 [==============================] - 4s 16ms/step - loss: 0.3537 - accuracy: 0.8664 - val_loss: 2.0769 - val_accuracy: 0.5822\n",
            "Epoch 10/50\n",
            "234/234 [==============================] - 4s 15ms/step - loss: 0.3469 - accuracy: 0.8644 - val_loss: 2.5002 - val_accuracy: 0.4471\n",
            "Epoch 11/50\n",
            "234/234 [==============================] - 4s 16ms/step - loss: 0.3244 - accuracy: 0.8838 - val_loss: 2.4084 - val_accuracy: 0.5245\n",
            "Epoch 12/50\n",
            "234/234 [==============================] - 4s 15ms/step - loss: 0.3357 - accuracy: 0.8724 - val_loss: 2.1471 - val_accuracy: 0.5377\n"
          ],
          "name": "stdout"
        }
      ]
    },
    {
      "cell_type": "code",
      "metadata": {
        "colab": {
          "base_uri": "https://localhost:8080/",
          "height": 265
        },
        "id": "RV30Su9nOXe0",
        "outputId": "4866d47d-3fe8-4c7a-a501-63dde7d15021"
      },
      "source": [
        "\r\n",
        "import matplotlib.pyplot as plt\r\n",
        "\r\n",
        "pd.DataFrame(history.history).plot();"
      ],
      "execution_count": 31,
      "outputs": [
        {
          "output_type": "display_data",
          "data": {
            "image/png": "[encoded data removed]",
            "text/plain": [
              "<Figure size 432x288 with 1 Axes>"
            ]
          },
          "metadata": {
            "tags": [],
            "needs_background": "light"
          }
        }
      ]
    },
    {
      "cell_type": "code",
      "metadata": {
        "colab": {
          "base_uri": "https://localhost:8080/"
        },
        "id": "PZMaTcY8ObYs",
        "outputId": "c7be319d-ff0a-41a2-8353-d98c6410f397"
      },
      "source": [
        "df = pd.read_csv('/content/drive/MyDrive/data.csv')\r\n",
        "\r\n",
        "def remove_punctuations(text):\r\n",
        "    for punctuation in string.punctuation:\r\n",
        "        text = text.replace(punctuation, '')\r\n",
        "    return text\r\n",
        "\r\n",
        "df['review'] = df['review'].apply(remove_punctuations)\r\n",
        "\r\n",
        "tokenizer=RegexpTokenizer(r'\\w+')\r\n",
        "df['review']=df['review'].apply(lambda x: tokenizer.tokenize(x.lower()))\r\n",
        "\r\n",
        "def removestopwords(s):\r\n",
        "  words=[i for i in s if i not in stopwords.words('english')]\r\n",
        "  print(words)\r\n",
        "  return words\r\n",
        "\r\n",
        "x = df.iloc[:,0].values\r\n",
        "y = df.iloc[:,1].values\r\n",
        "\r\n",
        "def dummy_fun(doc):\r\n",
        "    return doc\r\n",
        "\r\n",
        "vectorizer = TfidfVectorizer(\r\n",
        "    analyzer='word',\r\n",
        "    tokenizer=dummy_fun,\r\n",
        "    preprocessor=dummy_fun,\r\n",
        "    token_pattern=None)  \r\n",
        "\r\n",
        "x = vectorizer.fit_transform(x)\r\n",
        "x = x.toarray()\r\n",
        "\r\n",
        "x_train,x_test,y_train,y_test = train_test_split(x,y,test_size = 0.05,random_state = 0,stratify = y)\r\n",
        "\r\n",
        "y_train = keras.utils.to_categorical(y_train)\r\n",
        "y_test = keras.utils.to_categorical(y_test)\r\n",
        "\r\n",
        "# y = keras.utils.to_categorical(y)\r\n",
        "# y = y[:, 1:]\r\n",
        "\r\n",
        "y_train = y_train[:, 1:]\r\n",
        "y_test = y_test[:, 1:]\r\n",
        "\r\n",
        "model = keras.models.Sequential([keras.layers.BatchNormalization(input_dim=x_train.shape[1]),\r\n",
        "                                 keras.layers.Dense(100,kernel_initializer=\"he_normal\"),\r\n",
        "                                 keras.layers.PReLU(),\r\n",
        "                                 keras.layers.BatchNormalization(),\r\n",
        "                                 keras.layers.Dropout(0.2),\r\n",
        "                                 keras.layers.Dense(50,kernel_initializer=\"he_normal\"),\r\n",
        "                                 keras.layers.PReLU(),\r\n",
        "                                 keras.layers.BatchNormalization(),\r\n",
        "                                 keras.layers.Dense(5, \"softmax\"),\r\n",
        "                                 ])\r\n",
        "\r\n",
        "model.compile(loss=\"categorical_crossentropy\",\r\n",
        "              optimizer=keras.optimizers.Adam(),\r\n",
        "              metrics=\"accuracy\")\r\n",
        "\r\n",
        "early_stopping_cb = keras.callbacks.EarlyStopping(patience=10, restore_best_weights=True)\r\n",
        "\r\n",
        "history = model.fit(x_train, y_train,validation_data=(x_test,y_test),\r\n",
        "                    epochs=50, callbacks=[early_stopping_cb])"
      ],
      "execution_count": 32,
      "outputs": [
        {
          "output_type": "stream",
          "text": [
            "Epoch 1/50\n",
            "297/297 [==============================] - 5s 15ms/step - loss: 1.5353 - accuracy: 0.4379 - val_loss: 1.0843 - val_accuracy: 0.5752\n",
            "Epoch 2/50\n",
            "297/297 [==============================] - 4s 15ms/step - loss: 0.7227 - accuracy: 0.7340 - val_loss: 1.1332 - val_accuracy: 0.5691\n",
            "Epoch 3/50\n",
            "297/297 [==============================] - 4s 15ms/step - loss: 0.5504 - accuracy: 0.8079 - val_loss: 1.6611 - val_accuracy: 0.4910\n",
            "Epoch 4/50\n",
            "297/297 [==============================] - 4s 14ms/step - loss: 0.4829 - accuracy: 0.8249 - val_loss: 1.6984 - val_accuracy: 0.5812\n",
            "Epoch 5/50\n",
            "297/297 [==============================] - 4s 14ms/step - loss: 0.4310 - accuracy: 0.8363 - val_loss: 1.8099 - val_accuracy: 0.5611\n",
            "Epoch 6/50\n",
            "297/297 [==============================] - 4s 14ms/step - loss: 0.3943 - accuracy: 0.8577 - val_loss: 1.9747 - val_accuracy: 0.5812\n",
            "Epoch 7/50\n",
            "297/297 [==============================] - 4s 15ms/step - loss: 0.3722 - accuracy: 0.8621 - val_loss: 2.0314 - val_accuracy: 0.5832\n",
            "Epoch 8/50\n",
            "297/297 [==============================] - 4s 15ms/step - loss: 0.3665 - accuracy: 0.8652 - val_loss: 2.0640 - val_accuracy: 0.5912\n",
            "Epoch 9/50\n",
            "297/297 [==============================] - 4s 14ms/step - loss: 0.3416 - accuracy: 0.8738 - val_loss: 2.2217 - val_accuracy: 0.6072\n",
            "Epoch 10/50\n",
            "297/297 [==============================] - 4s 14ms/step - loss: 0.3425 - accuracy: 0.8664 - val_loss: 2.7155 - val_accuracy: 0.4048\n",
            "Epoch 11/50\n",
            "297/297 [==============================] - 4s 14ms/step - loss: 0.3267 - accuracy: 0.8743 - val_loss: 2.3674 - val_accuracy: 0.5772\n"
          ],
          "name": "stdout"
        }
      ]
    },
    {
      "cell_type": "code",
      "metadata": {
        "colab": {
          "base_uri": "https://localhost:8080/",
          "height": 1000
        },
        "id": "vb1MbgDHR1UJ",
        "outputId": "33e8683c-f0c3-4692-d584-6ff3098ae95b"
      },
      "source": [
        "!pip install streamlit\r\n",
        "!pip install pyngrok==4.1.1\r\n",
        "from pyngrok import ngrok"
      ],
      "execution_count": 33,
      "outputs": [
        {
          "output_type": "stream",
          "text": [
            "Collecting streamlit\n",
            "\u001b[?25l  Downloading https://files.pythonhosted.org/packages/5f/3c/f0a97b684a49bd043bef9f8b8f4092b8a25bee9ad9a3f5e121a7161ded8f/streamlit-0.78.0-py2.py3-none-any.whl (7.5MB)\n",
            "\u001b[K     |████████████████████████████████| 7.5MB 6.7MB/s \n",
            "\u001b[?25hCollecting pydeck>=0.1.dev5\n",
            "\u001b[?25l  Downloading https://files.pythonhosted.org/packages/1c/3f/8f04ae0c22d82ec7bec7fcc03270a142f637e362bbd285f7daeeda24fbef/pydeck-0.6.1-py2.py3-none-any.whl (4.6MB)\n",
            "\u001b[K     |████████████████████████████████| 4.6MB 44.9MB/s \n",
            "\u001b[?25hRequirement already satisfied: altair>=3.2.0 in /usr/local/lib/python3.7/dist-packages (from streamlit) (4.1.0)\n",
            "Requirement already satisfied: packaging in /usr/local/lib/python3.7/dist-packages (from streamlit) (20.9)\n",
            "Requirement already satisfied: numpy in /usr/local/lib/python3.7/dist-packages (from streamlit) (1.19.5)\n",
            "Requirement already satisfied: tzlocal in /usr/local/lib/python3.7/dist-packages (from streamlit) (1.5.1)\n",
            "Requirement already satisfied: python-dateutil in /usr/local/lib/python3.7/dist-packages (from streamlit) (2.8.1)\n",
            "Requirement already satisfied: cachetools>=4.0 in /usr/local/lib/python3.7/dist-packages (from streamlit) (4.2.1)\n",
            "Requirement already satisfied: pillow>=6.2.0 in /usr/local/lib/python3.7/dist-packages (from streamlit) (7.0.0)\n",
            "Requirement already satisfied: tornado>=5.0 in /usr/local/lib/python3.7/dist-packages (from streamlit) (5.1.1)\n",
            "Collecting gitpython\n",
            "\u001b[?25l  Downloading https://files.pythonhosted.org/packages/a6/99/98019716955ba243657daedd1de8f3a88ca1f5b75057c38e959db22fb87b/GitPython-3.1.14-py3-none-any.whl (159kB)\n",
            "\u001b[K     |████████████████████████████████| 163kB 49.0MB/s \n",
            "\u001b[?25hRequirement already satisfied: click>=7.0 in /usr/local/lib/python3.7/dist-packages (from streamlit) (7.1.2)\n",
            "Requirement already satisfied: pandas>=0.21.0 in /usr/local/lib/python3.7/dist-packages (from streamlit) (1.1.5)\n",
            "Requirement already satisfied: astor in /usr/local/lib/python3.7/dist-packages (from streamlit) (0.8.1)\n",
            "Collecting blinker\n",
            "\u001b[?25l  Downloading https://files.pythonhosted.org/packages/1b/51/e2a9f3b757eb802f61dc1f2b09c8c99f6eb01cf06416c0671253536517b6/blinker-1.4.tar.gz (111kB)\n",
            "\u001b[K     |████████████████████████████████| 112kB 41.5MB/s \n",
            "\u001b[?25hCollecting base58\n",
            "  Downloading https://files.pythonhosted.org/packages/b8/a1/d9f565e9910c09fd325dc638765e8843a19fa696275c16cc08cf3b0a3c25/base58-2.1.0-py3-none-any.whl\n",
            "Requirement already satisfied: toml in /usr/local/lib/python3.7/dist-packages (from streamlit) (0.10.2)\n",
            "Requirement already satisfied: protobuf!=3.11,>=3.6.0 in /usr/local/lib/python3.7/dist-packages (from streamlit) (3.12.4)\n",
            "Requirement already satisfied: requests in /usr/local/lib/python3.7/dist-packages (from streamlit) (2.23.0)\n",
            "Collecting watchdog; platform_system != \"Darwin\"\n",
            "\u001b[?25l  Downloading https://files.pythonhosted.org/packages/c6/ba/a36ca5b4e75649a002f06531862467b3eb5c768caa23d6d88b921fe238d8/watchdog-2.0.2-py3-none-manylinux2014_x86_64.whl (74kB)\n",
            "\u001b[K     |████████████████████████████████| 81kB 7.8MB/s \n",
            "\u001b[?25hRequirement already satisfied: pyarrow; python_version < \"3.9\" in /usr/local/lib/python3.7/dist-packages (from streamlit) (3.0.0)\n",
            "Collecting validators\n",
            "  Downloading https://files.pythonhosted.org/packages/db/2f/7fed3ee94ad665ad2c1de87f858f10a7785251ff75b4fd47987888d07ef1/validators-0.18.2-py3-none-any.whl\n",
            "Requirement already satisfied: traitlets>=4.3.2 in /usr/local/lib/python3.7/dist-packages (from pydeck>=0.1.dev5->streamlit) (5.0.5)\n",
            "Collecting ipykernel>=5.1.2; python_version >= \"3.4\"\n",
            "\u001b[?25l  Downloading https://files.pythonhosted.org/packages/56/95/3a670c8b2c2370bd8631c313f42e60983b3113ffec4035940592252bd6d5/ipykernel-5.5.0-py3-none-any.whl (120kB)\n",
            "\u001b[K     |████████████████████████████████| 122kB 48.1MB/s \n",
            "\u001b[?25hRequirement already satisfied: jinja2>=2.10.1 in /usr/local/lib/python3.7/dist-packages (from pydeck>=0.1.dev5->streamlit) (2.11.3)\n",
            "Requirement already satisfied: ipywidgets>=7.0.0 in /usr/local/lib/python3.7/dist-packages (from pydeck>=0.1.dev5->streamlit) (7.6.3)\n",
            "Requirement already satisfied: jsonschema in /usr/local/lib/python3.7/dist-packages (from altair>=3.2.0->streamlit) (2.6.0)\n",
            "Requirement already satisfied: entrypoints in /usr/local/lib/python3.7/dist-packages (from altair>=3.2.0->streamlit) (0.3)\n",
            "Requirement already satisfied: toolz in /usr/local/lib/python3.7/dist-packages (from altair>=3.2.0->streamlit) (0.11.1)\n",
            "Requirement already satisfied: pyparsing>=2.0.2 in /usr/local/lib/python3.7/dist-packages (from packaging->streamlit) (2.4.7)\n",
            "Requirement already satisfied: pytz in /usr/local/lib/python3.7/dist-packages (from tzlocal->streamlit) (2018.9)\n",
            "Requirement already satisfied: six>=1.5 in /usr/local/lib/python3.7/dist-packages (from python-dateutil->streamlit) (1.15.0)\n",
            "Collecting gitdb<5,>=4.0.1\n",
            "\u001b[?25l  Downloading https://files.pythonhosted.org/packages/48/11/d1800bca0a3bae820b84b7d813ad1eff15a48a64caea9c823fc8c1b119e8/gitdb-4.0.5-py3-none-any.whl (63kB)\n",
            "\u001b[K     |████████████████████████████████| 71kB 7.2MB/s \n",
            "\u001b[?25hRequirement already satisfied: setuptools in /usr/local/lib/python3.7/dist-packages (from protobuf!=3.11,>=3.6.0->streamlit) (54.0.0)\n",
            "Requirement already satisfied: idna<3,>=2.5 in /usr/local/lib/python3.7/dist-packages (from requests->streamlit) (2.10)\n",
            "Requirement already satisfied: certifi>=2017.4.17 in /usr/local/lib/python3.7/dist-packages (from requests->streamlit) (2020.12.5)\n",
            "Requirement already satisfied: chardet<4,>=3.0.2 in /usr/local/lib/python3.7/dist-packages (from requests->streamlit) (3.0.4)\n",
            "Requirement already satisfied: urllib3!=1.25.0,!=1.25.1,<1.26,>=1.21.1 in /usr/local/lib/python3.7/dist-packages (from requests->streamlit) (1.24.3)\n",
            "Requirement already satisfied: decorator>=3.4.0 in /usr/local/lib/python3.7/dist-packages (from validators->streamlit) (4.4.2)\n",
            "Requirement already satisfied: ipython-genutils in /usr/local/lib/python3.7/dist-packages (from traitlets>=4.3.2->pydeck>=0.1.dev5->streamlit) (0.2.0)\n",
            "Requirement already satisfied: jupyter-client in /usr/local/lib/python3.7/dist-packages (from ipykernel>=5.1.2; python_version >= \"3.4\"->pydeck>=0.1.dev5->streamlit) (5.3.5)\n",
            "Requirement already satisfied: ipython>=5.0.0 in /usr/local/lib/python3.7/dist-packages (from ipykernel>=5.1.2; python_version >= \"3.4\"->pydeck>=0.1.dev5->streamlit) (5.5.0)\n",
            "Requirement already satisfied: MarkupSafe>=0.23 in /usr/local/lib/python3.7/dist-packages (from jinja2>=2.10.1->pydeck>=0.1.dev5->streamlit) (1.1.1)\n",
            "Requirement already satisfied: widgetsnbextension~=3.5.0 in /usr/local/lib/python3.7/dist-packages (from ipywidgets>=7.0.0->pydeck>=0.1.dev5->streamlit) (3.5.1)\n",
            "Requirement already satisfied: nbformat>=4.2.0 in /usr/local/lib/python3.7/dist-packages (from ipywidgets>=7.0.0->pydeck>=0.1.dev5->streamlit) (5.1.2)\n",
            "Requirement already satisfied: jupyterlab-widgets>=1.0.0; python_version >= \"3.6\" in /usr/local/lib/python3.7/dist-packages (from ipywidgets>=7.0.0->pydeck>=0.1.dev5->streamlit) (1.0.0)\n",
            "Collecting smmap<4,>=3.0.1\n",
            "  Downloading https://files.pythonhosted.org/packages/d5/1e/6130925131f639b2acde0f7f18b73e33ce082ff2d90783c436b52040af5a/smmap-3.0.5-py2.py3-none-any.whl\n",
            "Requirement already satisfied: pyzmq>=13 in /usr/local/lib/python3.7/dist-packages (from jupyter-client->ipykernel>=5.1.2; python_version >= \"3.4\"->pydeck>=0.1.dev5->streamlit) (22.0.3)\n",
            "Requirement already satisfied: jupyter-core>=4.6.0 in /usr/local/lib/python3.7/dist-packages (from jupyter-client->ipykernel>=5.1.2; python_version >= \"3.4\"->pydeck>=0.1.dev5->streamlit) (4.7.1)\n",
            "Requirement already satisfied: pickleshare in /usr/local/lib/python3.7/dist-packages (from ipython>=5.0.0->ipykernel>=5.1.2; python_version >= \"3.4\"->pydeck>=0.1.dev5->streamlit) (0.7.5)\n",
            "Requirement already satisfied: pexpect; sys_platform != \"win32\" in /usr/local/lib/python3.7/dist-packages (from ipython>=5.0.0->ipykernel>=5.1.2; python_version >= \"3.4\"->pydeck>=0.1.dev5->streamlit) (4.8.0)\n",
            "Requirement already satisfied: simplegeneric>0.8 in /usr/local/lib/python3.7/dist-packages (from ipython>=5.0.0->ipykernel>=5.1.2; python_version >= \"3.4\"->pydeck>=0.1.dev5->streamlit) (0.8.1)\n",
            "Requirement already satisfied: pygments in /usr/local/lib/python3.7/dist-packages (from ipython>=5.0.0->ipykernel>=5.1.2; python_version >= \"3.4\"->pydeck>=0.1.dev5->streamlit) (2.6.1)\n",
            "Requirement already satisfied: prompt-toolkit<2.0.0,>=1.0.4 in /usr/local/lib/python3.7/dist-packages (from ipython>=5.0.0->ipykernel>=5.1.2; python_version >= \"3.4\"->pydeck>=0.1.dev5->streamlit) (1.0.18)\n",
            "Requirement already satisfied: notebook>=4.4.1 in /usr/local/lib/python3.7/dist-packages (from widgetsnbextension~=3.5.0->ipywidgets>=7.0.0->pydeck>=0.1.dev5->streamlit) (5.3.1)\n",
            "Requirement already satisfied: ptyprocess>=0.5 in /usr/local/lib/python3.7/dist-packages (from pexpect; sys_platform != \"win32\"->ipython>=5.0.0->ipykernel>=5.1.2; python_version >= \"3.4\"->pydeck>=0.1.dev5->streamlit) (0.7.0)\n",
            "Requirement already satisfied: wcwidth in /usr/local/lib/python3.7/dist-packages (from prompt-toolkit<2.0.0,>=1.0.4->ipython>=5.0.0->ipykernel>=5.1.2; python_version >= \"3.4\"->pydeck>=0.1.dev5->streamlit) (0.2.5)\n",
            "Requirement already satisfied: terminado>=0.8.1 in /usr/local/lib/python3.7/dist-packages (from notebook>=4.4.1->widgetsnbextension~=3.5.0->ipywidgets>=7.0.0->pydeck>=0.1.dev5->streamlit) (0.9.2)\n",
            "Requirement already satisfied: nbconvert in /usr/local/lib/python3.7/dist-packages (from notebook>=4.4.1->widgetsnbextension~=3.5.0->ipywidgets>=7.0.0->pydeck>=0.1.dev5->streamlit) (5.6.1)\n",
            "Requirement already satisfied: Send2Trash in /usr/local/lib/python3.7/dist-packages (from notebook>=4.4.1->widgetsnbextension~=3.5.0->ipywidgets>=7.0.0->pydeck>=0.1.dev5->streamlit) (1.5.0)\n",
            "Requirement already satisfied: defusedxml in /usr/local/lib/python3.7/dist-packages (from nbconvert->notebook>=4.4.1->widgetsnbextension~=3.5.0->ipywidgets>=7.0.0->pydeck>=0.1.dev5->streamlit) (0.7.0)\n",
            "Requirement already satisfied: testpath in /usr/local/lib/python3.7/dist-packages (from nbconvert->notebook>=4.4.1->widgetsnbextension~=3.5.0->ipywidgets>=7.0.0->pydeck>=0.1.dev5->streamlit) (0.4.4)\n",
            "Requirement already satisfied: pandocfilters>=1.4.1 in /usr/local/lib/python3.7/dist-packages (from nbconvert->notebook>=4.4.1->widgetsnbextension~=3.5.0->ipywidgets>=7.0.0->pydeck>=0.1.dev5->streamlit) (1.4.3)\n",
            "Requirement already satisfied: mistune<2,>=0.8.1 in /usr/local/lib/python3.7/dist-packages (from nbconvert->notebook>=4.4.1->widgetsnbextension~=3.5.0->ipywidgets>=7.0.0->pydeck>=0.1.dev5->streamlit) (0.8.4)\n",
            "Requirement already satisfied: bleach in /usr/local/lib/python3.7/dist-packages (from nbconvert->notebook>=4.4.1->widgetsnbextension~=3.5.0->ipywidgets>=7.0.0->pydeck>=0.1.dev5->streamlit) (3.3.0)\n",
            "Requirement already satisfied: webencodings in /usr/local/lib/python3.7/dist-packages (from bleach->nbconvert->notebook>=4.4.1->widgetsnbextension~=3.5.0->ipywidgets>=7.0.0->pydeck>=0.1.dev5->streamlit) (0.5.1)\n",
            "Building wheels for collected packages: blinker\n",
            "  Building wheel for blinker (setup.py) ... \u001b[?25l\u001b[?25hdone\n",
            "  Created wheel for blinker: filename=blinker-1.4-cp37-none-any.whl size=13448 sha256=7ce6fa1c4591ff80789d534134541ed0d6d96f84872e074de9e31b843527dbb9\n",
            "  Stored in directory: /root/.cache/pip/wheels/92/a0/00/8690a57883956a301d91cf4ec999cc0b258b01e3f548f86e89\n",
            "Successfully built blinker\n",
            "\u001b[31mERROR: google-colab 1.0.0 has requirement ipykernel~=4.10, but you'll have ipykernel 5.5.0 which is incompatible.\u001b[0m\n",
            "Installing collected packages: ipykernel, pydeck, smmap, gitdb, gitpython, blinker, base58, watchdog, validators, streamlit\n",
            "  Found existing installation: ipykernel 4.10.1\n",
            "    Uninstalling ipykernel-4.10.1:\n",
            "      Successfully uninstalled ipykernel-4.10.1\n",
            "Successfully installed base58-2.1.0 blinker-1.4 gitdb-4.0.5 gitpython-3.1.14 ipykernel-5.5.0 pydeck-0.6.1 smmap-3.0.5 streamlit-0.78.0 validators-0.18.2 watchdog-2.0.2\n"
          ],
          "name": "stdout"
        },
        {
          "output_type": "display_data",
          "data": {
            "application/vnd.colab-display-data+json": {
              "pip_warning": {
                "packages": [
                  "ipykernel"
                ]
              }
            }
          },
          "metadata": {
            "tags": []
          }
        },
        {
          "output_type": "stream",
          "text": [
            "Collecting pyngrok==4.1.1\n",
            "  Downloading https://files.pythonhosted.org/packages/e4/a9/de2e15c92eb3aa4a2646ce3a7542317eb69ac47f667578ce8bf916320847/pyngrok-4.1.1.tar.gz\n",
            "Requirement already satisfied: future in /usr/local/lib/python3.7/dist-packages (from pyngrok==4.1.1) (0.16.0)\n",
            "Requirement already satisfied: PyYAML in /usr/local/lib/python3.7/dist-packages (from pyngrok==4.1.1) (3.13)\n",
            "Building wheels for collected packages: pyngrok\n",
            "  Building wheel for pyngrok (setup.py) ... \u001b[?25l\u001b[?25hdone\n",
            "  Created wheel for pyngrok: filename=pyngrok-4.1.1-cp37-none-any.whl size=15971 sha256=1f419f21cf291bbf0ae0cf00cc50871344e65f11e1d1ea656b36bcc56c124faf\n",
            "  Stored in directory: /root/.cache/pip/wheels/97/71/0d/1695f7c8815c0beb3b5d9b35d6eec9243c87e6070fbe3977fa\n",
            "Successfully built pyngrok\n",
            "Installing collected packages: pyngrok\n",
            "Successfully installed pyngrok-4.1.1\n"
          ],
          "name": "stdout"
        }
      ]
    },
    {
      "cell_type": "code",
      "metadata": {
        "colab": {
          "base_uri": "https://localhost:8080/"
        },
        "id": "FL2R1-29R-yB",
        "outputId": "712232de-2495-4da5-fa23-de5d4a6a00dd"
      },
      "source": [
        "%%writefile app.py\r\n",
        "\r\n",
        "import streamlit as st\r\n",
        "import pandas as pd\r\n",
        "import numpy as np\r\n",
        "from sklearn.feature_extraction.text import TfidfVectorizer\r\n",
        "#import tensorflow as tf\r\n",
        "#from tensorflow import keras\r\n",
        "\r\n",
        "import nltk\r\n",
        "nltk.download('stopwords')\r\n",
        "from nltk.corpus import stopwords\r\n",
        "import nltk\r\n",
        "from nltk.tokenize import RegexpTokenizer\r\n",
        "from nltk.stem import WordNetLemmatizer\r\n",
        "from nltk.stem.porter import PorterStemmer\r\n",
        "import string\r\n",
        "\r\n",
        "from sklearn.feature_extraction.text import TfidfVectorizer\r\n",
        "from sklearn.model_selection import train_test_split\r\n",
        "\r\n",
        "df = pd.read_csv('/content/drive/MyDrive/data.csv')\r\n",
        "\r\n",
        "#def remove_punctuations(text):\r\n",
        " #   for punctuation in string.punctuation:\r\n",
        "  #      text = text.replace(punctuation, '')\r\n",
        "   # return text\r\n",
        "\r\n",
        "#df['review'] = df['review'].apply(remove_punctuations)\r\n",
        "\r\n",
        "#tokenizer=RegexpTokenizer(r'\\w+')\r\n",
        "#df['review']=df['review'].apply(lambda x: tokenizer.tokenize(x.lower()))\r\n",
        "\r\n",
        "#def removestopwords(s):\r\n",
        " # words=[i for i in s if i not in stopwords.words('english')]\r\n",
        "  #print(words)\r\n",
        "  #return words\r\n",
        "\r\n",
        "x = df.iloc[:,0].values\r\n",
        "y = df.iloc[:,1].values\r\n",
        "\r\n",
        "#def dummy_fun(doc):\r\n",
        " #   return doc\r\n",
        "\r\n",
        "#vectorizer = TfidfVectorizer(\r\n",
        " #   analyzer='word',\r\n",
        "  #  tokenizer=dummy_fun,\r\n",
        "   # preprocessor=dummy_fun,\r\n",
        "    #token_pattern=None)  \r\n",
        "\r\n",
        "#x = vectorizer.fit_transform(x)\r\n",
        "#x = x.toarray()\r\n",
        "\r\n",
        "#x_train,x_test,y_train,y_test = train_test_split(x,y,test_size = 0.05,random_state = 0,stratify = y)\r\n",
        "text_model = Pipeline([('tfidf',TfidfVectorizer()) , ('model',SVC())])\r\n",
        "text_model.fit(x,y)\r\n",
        "\r\n",
        "#y_train = keras.utils.to_categorical(y_train)\r\n",
        "#y_test = keras.utils.to_categorical(y_test)\r\n",
        "\r\n",
        "# y = keras.utils.to_categorical(y)\r\n",
        "# y = y[:, 1:]\r\n",
        "\r\n",
        "#y_train = y_train[:, 1:]\r\n",
        "#y_test = y_test[:, 1:]\r\n",
        "\r\n",
        "#model = keras.models.Sequential([keras.layers.BatchNormalization(input_dim=x_train.shape[1]),\r\n",
        " #                                keras.layers.Dense(100,kernel_initializer=\"he_normal\"),\r\n",
        "  #                               keras.layers.PReLU(),\r\n",
        "   #                              keras.layers.BatchNormalization(),\r\n",
        "   #                              keras.layers.Dropout(0.2),\r\n",
        "    #                             keras.layers.Dense(50,kernel_initializer=\"he_normal\"),\r\n",
        "     #                            keras.layers.PReLU(),\r\n",
        "      #                           keras.layers.BatchNormalization(),\r\n",
        "       #                          keras.layers.Dense(5, \"softmax\"),\r\n",
        "        #                         ])\r\n",
        "\r\n",
        "#model.compile(loss=\"categorical_crossentropy\",\r\n",
        " #             optimizer=keras.optimizers.Adam(),\r\n",
        "  #            metrics=\"accuracy\")\r\n",
        "\r\n",
        "#early_stopping_cb = keras.callbacks.EarlyStopping(patience=10, restore_best_weights=True)\r\n",
        "\r\n",
        "#history = model.fit(x_train, y_train,validation_data=(x_test,y_test),\r\n",
        " #                   epochs=50, callbacks=[early_stopping_cb])\r\n",
        "\r\n",
        "st.title('sentiment analysis')\r\n",
        "select = st.text_input('Enter your message')\r\n",
        "\r\n",
        "#select = remove_punctuations(select)\r\n",
        "#select = tokenizer.tokenize(select.lower())\r\n",
        "\r\n",
        "#select = vectorizer.transform([select]).toarray()\r\n",
        "#output = np.argmax(model.predict(select), axis=-1)\r\n",
        "\r\n",
        "output = text_model.predict([select])\r\n",
        "st.title(output[0])"
      ],
      "execution_count": 34,
      "outputs": [
        {
          "output_type": "stream",
          "text": [
            "Writing app.py\n"
          ],
          "name": "stdout"
        }
      ]
    },
    {
      "cell_type": "code",
      "metadata": {
        "colab": {
          "base_uri": "https://localhost:8080/",
          "height": 52
        },
        "id": "26RfOl_FSv6E",
        "outputId": "ac11e2f3-d8ac-40a2-df26-8ee89dea2696"
      },
      "source": [
        "!nohup streamlit run app.py &\r\n",
        "url = ngrok.connect(port='8501')\r\n",
        "url"
      ],
      "execution_count": 35,
      "outputs": [
        {
          "output_type": "stream",
          "text": [
            "nohup: appending output to 'nohup.out'\n"
          ],
          "name": "stdout"
        },
        {
          "output_type": "execute_result",
          "data": {
            "application/vnd.google.colaboratory.intrinsic+json": {
              "type": "string"
            },
            "text/plain": [
              "'http://c8f1ddaf4e48.ngrok.io'"
            ]
          },
          "metadata": {
            "tags": []
          },
          "execution_count": 35
        }
      ]
    }
  ]
}