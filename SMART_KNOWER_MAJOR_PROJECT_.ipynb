{
  "nbformat": 4,
  "nbformat_minor": 0,
  "metadata": {
    "colab": {
      "name": "SMART KNOWER MAJOR PROJECT .ipynb",
      "provenance": [],
      "mount_file_id": "1bXuohsE31Weksu8VqXyCZamgIdR9R39G",
      "authorship_tag": "ABX9TyMurdENRPgm3rOYIXf+VVjK",
      "include_colab_link": true
    },
    "kernelspec": {
      "name": "python3",
      "display_name": "Python 3"
    }
  },
  "cells": [
    {
      "cell_type": "markdown",
      "metadata": {
        "id": "view-in-github",
        "colab_type": "text"
      },
      "source": [
        "<a href=\"https://colab.research.google.com/github/dileepchandhra/SENTIMENT-ANALYSIS/blob/main/SMART_KNOWER_MAJOR_PROJECT_.ipynb\" target=\"_parent\"><img src=\"https://colab.research.google.com/assets/colab-badge.svg\" alt=\"Open In Colab\"/></a>"
      ]
    },
    {
      "cell_type": "code",
      "metadata": {
        "colab": {
          "base_uri": "https://localhost:8080/"
        },
        "id": "rP3XGbnFIvuv",
        "outputId": "f7efd717-957d-4d59-dc5c-b9e4dc16fc6a"
      },
      "source": [
        "import pandas as pd\r\n",
        "import numpy as np\r\n",
        "from sklearn.feature_extraction.text import TfidfVectorizer\r\n",
        "import tensorflow as tf\r\n",
        "from tensorflow import keras\r\n",
        "\r\n",
        "import nltk\r\n",
        "nltk.download('stopwords')\r\n",
        "from nltk.corpus import stopwords\r\n",
        "import nltk\r\n",
        "from nltk.tokenize import RegexpTokenizer\r\n",
        "from nltk.stem import WordNetLemmatizer\r\n",
        "from nltk.stem.porter import PorterStemmer\r\n",
        "\r\n",
        "from sklearn.feature_extraction.text import TfidfVectorizer\r\n",
        "from sklearn.model_selection import train_test_split"
      ],
      "execution_count": 1,
      "outputs": [
        {
          "output_type": "stream",
          "text": [
            "[nltk_data] Downloading package stopwords to /root/nltk_data...\n",
            "[nltk_data]   Unzipping corpora/stopwords.zip.\n"
          ],
          "name": "stdout"
        }
      ]
    },
    {
      "cell_type": "code",
      "metadata": {
        "colab": {
          "base_uri": "https://localhost:8080/",
          "height": 197
        },
        "id": "9HhO6dy0JCqY",
        "outputId": "32bfed0a-3c4d-48b9-dcac-47efde8f2c94"
      },
      "source": [
        "df = pd.read_csv('/content/drive/MyDrive/data.csv')\r\n",
        "df.head()"
      ],
      "execution_count": 2,
      "outputs": [
        {
          "output_type": "execute_result",
          "data": {
            "text/html": [
              "<div>\n",
              "<style scoped>\n",
              "    .dataframe tbody tr th:only-of-type {\n",
              "        vertical-align: middle;\n",
              "    }\n",
              "\n",
              "    .dataframe tbody tr th {\n",
              "        vertical-align: top;\n",
              "    }\n",
              "\n",
              "    .dataframe thead th {\n",
              "        text-align: right;\n",
              "    }\n",
              "</style>\n",
              "<table border=\"1\" class=\"dataframe\">\n",
              "  <thead>\n",
              "    <tr style=\"text-align: right;\">\n",
              "      <th></th>\n",
              "      <th>review</th>\n",
              "      <th>rating</th>\n",
              "    </tr>\n",
              "  </thead>\n",
              "  <tbody>\n",
              "    <tr>\n",
              "      <th>0</th>\n",
              "      <td>It was nice produt. I like it's design a lot. ...</td>\n",
              "      <td>5</td>\n",
              "    </tr>\n",
              "    <tr>\n",
              "      <th>1</th>\n",
              "      <td>awesome sound....very pretty to see this nd th...</td>\n",
              "      <td>5</td>\n",
              "    </tr>\n",
              "    <tr>\n",
              "      <th>2</th>\n",
              "      <td>awesome sound quality. pros 7-8 hrs of battery...</td>\n",
              "      <td>4</td>\n",
              "    </tr>\n",
              "    <tr>\n",
              "      <th>3</th>\n",
              "      <td>I think it is such a good product not only as ...</td>\n",
              "      <td>5</td>\n",
              "    </tr>\n",
              "    <tr>\n",
              "      <th>4</th>\n",
              "      <td>awesome bass sound quality very good bettary l...</td>\n",
              "      <td>5</td>\n",
              "    </tr>\n",
              "  </tbody>\n",
              "</table>\n",
              "</div>"
            ],
            "text/plain": [
              "                                              review  rating\n",
              "0  It was nice produt. I like it's design a lot. ...       5\n",
              "1  awesome sound....very pretty to see this nd th...       5\n",
              "2  awesome sound quality. pros 7-8 hrs of battery...       4\n",
              "3  I think it is such a good product not only as ...       5\n",
              "4  awesome bass sound quality very good bettary l...       5"
            ]
          },
          "metadata": {
            "tags": []
          },
          "execution_count": 2
        }
      ]
    },
    {
      "cell_type": "code",
      "metadata": {
        "colab": {
          "base_uri": "https://localhost:8080/"
        },
        "id": "O_dUJ01LMmEk",
        "outputId": "b9997835-2532-45e8-e564-7d65ff7beae5"
      },
      "source": [
        "x_text_model = df.iloc[:,0].values\r\n",
        "y_text_model = df.iloc[:,1].values\r\n",
        "print(x_text_model)\r\n",
        "print(y_text_model)\r\n"
      ],
      "execution_count": 9,
      "outputs": [
        {
          "output_type": "stream",
          "text": [
            "['It was nice produt I like its design a lot  Its easy to carry And   Looked stylishREAD MORE'\n",
            " 'awesome soundvery pretty to see this nd the sound quality was too good I wish to take this product loved this product 😍😍😍READ MORE'\n",
            " 'awesome sound quality pros 78 hrs of battery life including 45 mins approx call timeAwesome sound output Bass and treble are really very clear without equaliser With equaliser sound wary depends on the handset sound qualityWeightless to carry and in head tooMic is good but in traffic it is not too good 325535mm Option is really important to mention Really expecting other leading brands to implement thisConsVery tight in ears adjusters are ok  this ll be very tightREAD MORE'\n",
            " ... 'GoodREAD MORE' 'Best headphone i have ever usedREAD MORE'\n",
            " 'NiceREAD MORE']\n",
            "[5 5 4 ... 5 5 5]\n"
          ],
          "name": "stdout"
        }
      ]
    },
    {
      "cell_type": "code",
      "metadata": {
        "id": "WnNsI9S2OnR2"
      },
      "source": [
        "x_train_text_model,x_test_text_model,y_train_text_model,y_test_text_model = train_test_split(x_text_model ,y_text_model,test_size = 0.25,random_state = 0,stratify = y_text_model)"
      ],
      "execution_count": 11,
      "outputs": []
    },
    {
      "cell_type": "code",
      "metadata": {
        "colab": {
          "base_uri": "https://localhost:8080/",
          "height": 407
        },
        "id": "u6BL_41ML2St",
        "outputId": "28674c0c-ab2f-491d-fa54-26175981a00f"
      },
      "source": [
        "import string\r\n",
        "\r\n",
        "def remove_punctuations(text):\r\n",
        "    for punctuation in string.punctuation:\r\n",
        "        text = text.replace(punctuation, '')\r\n",
        "    return text\r\n",
        "\r\n",
        "df['review'] = df['review'].apply(remove_punctuations)\r\n",
        "df"
      ],
      "execution_count": 12,
      "outputs": [
        {
          "output_type": "execute_result",
          "data": {
            "text/html": [
              "<div>\n",
              "<style scoped>\n",
              "    .dataframe tbody tr th:only-of-type {\n",
              "        vertical-align: middle;\n",
              "    }\n",
              "\n",
              "    .dataframe tbody tr th {\n",
              "        vertical-align: top;\n",
              "    }\n",
              "\n",
              "    .dataframe thead th {\n",
              "        text-align: right;\n",
              "    }\n",
              "</style>\n",
              "<table border=\"1\" class=\"dataframe\">\n",
              "  <thead>\n",
              "    <tr style=\"text-align: right;\">\n",
              "      <th></th>\n",
              "      <th>review</th>\n",
              "      <th>rating</th>\n",
              "    </tr>\n",
              "  </thead>\n",
              "  <tbody>\n",
              "    <tr>\n",
              "      <th>0</th>\n",
              "      <td>It was nice produt I like its design a lot  It...</td>\n",
              "      <td>5</td>\n",
              "    </tr>\n",
              "    <tr>\n",
              "      <th>1</th>\n",
              "      <td>awesome soundvery pretty to see this nd the so...</td>\n",
              "      <td>5</td>\n",
              "    </tr>\n",
              "    <tr>\n",
              "      <th>2</th>\n",
              "      <td>awesome sound quality pros 78 hrs of battery l...</td>\n",
              "      <td>4</td>\n",
              "    </tr>\n",
              "    <tr>\n",
              "      <th>3</th>\n",
              "      <td>I think it is such a good product not only as ...</td>\n",
              "      <td>5</td>\n",
              "    </tr>\n",
              "    <tr>\n",
              "      <th>4</th>\n",
              "      <td>awesome bass sound quality very good bettary l...</td>\n",
              "      <td>5</td>\n",
              "    </tr>\n",
              "    <tr>\n",
              "      <th>...</th>\n",
              "      <td>...</td>\n",
              "      <td>...</td>\n",
              "    </tr>\n",
              "    <tr>\n",
              "      <th>9971</th>\n",
              "      <td>GoodREAD MORE</td>\n",
              "      <td>5</td>\n",
              "    </tr>\n",
              "    <tr>\n",
              "      <th>9972</th>\n",
              "      <td>Everything is amazimg but the built is very li...</td>\n",
              "      <td>5</td>\n",
              "    </tr>\n",
              "    <tr>\n",
              "      <th>9973</th>\n",
              "      <td>GoodREAD MORE</td>\n",
              "      <td>5</td>\n",
              "    </tr>\n",
              "    <tr>\n",
              "      <th>9974</th>\n",
              "      <td>Best headphone i have ever usedREAD MORE</td>\n",
              "      <td>5</td>\n",
              "    </tr>\n",
              "    <tr>\n",
              "      <th>9975</th>\n",
              "      <td>NiceREAD MORE</td>\n",
              "      <td>5</td>\n",
              "    </tr>\n",
              "  </tbody>\n",
              "</table>\n",
              "<p>9976 rows × 2 columns</p>\n",
              "</div>"
            ],
            "text/plain": [
              "                                                 review  rating\n",
              "0     It was nice produt I like its design a lot  It...       5\n",
              "1     awesome soundvery pretty to see this nd the so...       5\n",
              "2     awesome sound quality pros 78 hrs of battery l...       4\n",
              "3     I think it is such a good product not only as ...       5\n",
              "4     awesome bass sound quality very good bettary l...       5\n",
              "...                                                 ...     ...\n",
              "9971                                      GoodREAD MORE       5\n",
              "9972  Everything is amazimg but the built is very li...       5\n",
              "9973                                      GoodREAD MORE       5\n",
              "9974           Best headphone i have ever usedREAD MORE       5\n",
              "9975                                      NiceREAD MORE       5\n",
              "\n",
              "[9976 rows x 2 columns]"
            ]
          },
          "metadata": {
            "tags": []
          },
          "execution_count": 12
        }
      ]
    },
    {
      "cell_type": "code",
      "metadata": {
        "colab": {
          "base_uri": "https://localhost:8080/",
          "height": 35
        },
        "id": "Ak5sK14JMInO",
        "outputId": "ab775694-08c2-4e9c-e244-d74e4f953251"
      },
      "source": [
        "\r\n",
        "string.punctuation"
      ],
      "execution_count": 13,
      "outputs": [
        {
          "output_type": "execute_result",
          "data": {
            "application/vnd.google.colaboratory.intrinsic+json": {
              "type": "string"
            },
            "text/plain": [
              "'!\"#$%&\\'()*+,-./:;<=>?@[\\\\]^_`{|}~'"
            ]
          },
          "metadata": {
            "tags": []
          },
          "execution_count": 13
        }
      ]
    },
    {
      "cell_type": "code",
      "metadata": {
        "colab": {
          "base_uri": "https://localhost:8080/"
        },
        "id": "Ax98edEeMJ3Q",
        "outputId": "dba53eba-7f42-4f3a-d634-fd3ac44e2644"
      },
      "source": [
        "tokenizer=RegexpTokenizer(r'\\w+')\r\n",
        "df['review']=df['review'].apply(lambda x: tokenizer.tokenize(x.lower()))\r\n",
        "df['review']"
      ],
      "execution_count": 14,
      "outputs": [
        {
          "output_type": "execute_result",
          "data": {
            "text/plain": [
              "0       [it, was, nice, produt, i, like, its, design, ...\n",
              "1       [awesome, soundvery, pretty, to, see, this, nd...\n",
              "2       [awesome, sound, quality, pros, 78, hrs, of, b...\n",
              "3       [i, think, it, is, such, a, good, product, not...\n",
              "4       [awesome, bass, sound, quality, very, good, be...\n",
              "                              ...                        \n",
              "9971                                     [goodread, more]\n",
              "9972    [everything, is, amazimg, but, the, built, is,...\n",
              "9973                                     [goodread, more]\n",
              "9974     [best, headphone, i, have, ever, usedread, more]\n",
              "9975                                     [niceread, more]\n",
              "Name: review, Length: 9976, dtype: object"
            ]
          },
          "metadata": {
            "tags": []
          },
          "execution_count": 14
        }
      ]
    },
    {
      "cell_type": "code",
      "metadata": {
        "id": "-2iVyKe_MOHw"
      },
      "source": [
        "# def removestopwords(s):\r\n",
        "#   words=[i for i in s if i not in stopwords.words('english')]\r\n",
        "#   print(words)\r\n",
        "#   return words\r\n",
        "\r\n",
        "# df['review']=df['review'].apply(lambda x: removestopwords(x))\r\n",
        "# df['review']\r\n",
        "\r\n",
        "# #takes lots of time here so be patient here"
      ],
      "execution_count": 15,
      "outputs": []
    },
    {
      "cell_type": "code",
      "metadata": {
        "colab": {
          "base_uri": "https://localhost:8080/"
        },
        "id": "77qcNu8wMTlS",
        "outputId": "03919717-6ca9-4386-e878-2bbeb71b70e6"
      },
      "source": [
        "stopwords.words(\"english\")"
      ],
      "execution_count": 16,
      "outputs": [
        {
          "output_type": "execute_result",
          "data": {
            "text/plain": [
              "['i',\n",
              " 'me',\n",
              " 'my',\n",
              " 'myself',\n",
              " 'we',\n",
              " 'our',\n",
              " 'ours',\n",
              " 'ourselves',\n",
              " 'you',\n",
              " \"you're\",\n",
              " \"you've\",\n",
              " \"you'll\",\n",
              " \"you'd\",\n",
              " 'your',\n",
              " 'yours',\n",
              " 'yourself',\n",
              " 'yourselves',\n",
              " 'he',\n",
              " 'him',\n",
              " 'his',\n",
              " 'himself',\n",
              " 'she',\n",
              " \"she's\",\n",
              " 'her',\n",
              " 'hers',\n",
              " 'herself',\n",
              " 'it',\n",
              " \"it's\",\n",
              " 'its',\n",
              " 'itself',\n",
              " 'they',\n",
              " 'them',\n",
              " 'their',\n",
              " 'theirs',\n",
              " 'themselves',\n",
              " 'what',\n",
              " 'which',\n",
              " 'who',\n",
              " 'whom',\n",
              " 'this',\n",
              " 'that',\n",
              " \"that'll\",\n",
              " 'these',\n",
              " 'those',\n",
              " 'am',\n",
              " 'is',\n",
              " 'are',\n",
              " 'was',\n",
              " 'were',\n",
              " 'be',\n",
              " 'been',\n",
              " 'being',\n",
              " 'have',\n",
              " 'has',\n",
              " 'had',\n",
              " 'having',\n",
              " 'do',\n",
              " 'does',\n",
              " 'did',\n",
              " 'doing',\n",
              " 'a',\n",
              " 'an',\n",
              " 'the',\n",
              " 'and',\n",
              " 'but',\n",
              " 'if',\n",
              " 'or',\n",
              " 'because',\n",
              " 'as',\n",
              " 'until',\n",
              " 'while',\n",
              " 'of',\n",
              " 'at',\n",
              " 'by',\n",
              " 'for',\n",
              " 'with',\n",
              " 'about',\n",
              " 'against',\n",
              " 'between',\n",
              " 'into',\n",
              " 'through',\n",
              " 'during',\n",
              " 'before',\n",
              " 'after',\n",
              " 'above',\n",
              " 'below',\n",
              " 'to',\n",
              " 'from',\n",
              " 'up',\n",
              " 'down',\n",
              " 'in',\n",
              " 'out',\n",
              " 'on',\n",
              " 'off',\n",
              " 'over',\n",
              " 'under',\n",
              " 'again',\n",
              " 'further',\n",
              " 'then',\n",
              " 'once',\n",
              " 'here',\n",
              " 'there',\n",
              " 'when',\n",
              " 'where',\n",
              " 'why',\n",
              " 'how',\n",
              " 'all',\n",
              " 'any',\n",
              " 'both',\n",
              " 'each',\n",
              " 'few',\n",
              " 'more',\n",
              " 'most',\n",
              " 'other',\n",
              " 'some',\n",
              " 'such',\n",
              " 'no',\n",
              " 'nor',\n",
              " 'not',\n",
              " 'only',\n",
              " 'own',\n",
              " 'same',\n",
              " 'so',\n",
              " 'than',\n",
              " 'too',\n",
              " 'very',\n",
              " 's',\n",
              " 't',\n",
              " 'can',\n",
              " 'will',\n",
              " 'just',\n",
              " 'don',\n",
              " \"don't\",\n",
              " 'should',\n",
              " \"should've\",\n",
              " 'now',\n",
              " 'd',\n",
              " 'll',\n",
              " 'm',\n",
              " 'o',\n",
              " 're',\n",
              " 've',\n",
              " 'y',\n",
              " 'ain',\n",
              " 'aren',\n",
              " \"aren't\",\n",
              " 'couldn',\n",
              " \"couldn't\",\n",
              " 'didn',\n",
              " \"didn't\",\n",
              " 'doesn',\n",
              " \"doesn't\",\n",
              " 'hadn',\n",
              " \"hadn't\",\n",
              " 'hasn',\n",
              " \"hasn't\",\n",
              " 'haven',\n",
              " \"haven't\",\n",
              " 'isn',\n",
              " \"isn't\",\n",
              " 'ma',\n",
              " 'mightn',\n",
              " \"mightn't\",\n",
              " 'mustn',\n",
              " \"mustn't\",\n",
              " 'needn',\n",
              " \"needn't\",\n",
              " 'shan',\n",
              " \"shan't\",\n",
              " 'shouldn',\n",
              " \"shouldn't\",\n",
              " 'wasn',\n",
              " \"wasn't\",\n",
              " 'weren',\n",
              " \"weren't\",\n",
              " 'won',\n",
              " \"won't\",\n",
              " 'wouldn',\n",
              " \"wouldn't\"]"
            ]
          },
          "metadata": {
            "tags": []
          },
          "execution_count": 16
        }
      ]
    },
    {
      "cell_type": "code",
      "metadata": {
        "colab": {
          "base_uri": "https://localhost:8080/"
        },
        "id": "YNqeLaDlMWUw",
        "outputId": "4461e84f-6770-4190-dd38-be8cfe949f0a"
      },
      "source": [
        "x = df.iloc[:,0].values\r\n",
        "y = df.iloc[:,1].values\r\n",
        "print(x)\r\n",
        "print(y)"
      ],
      "execution_count": 17,
      "outputs": [
        {
          "output_type": "stream",
          "text": [
            "[list(['it', 'was', 'nice', 'produt', 'i', 'like', 'its', 'design', 'a', 'lot', 'its', 'easy', 'to', 'carry', 'and', 'looked', 'stylishread', 'more'])\n",
            " list(['awesome', 'soundvery', 'pretty', 'to', 'see', 'this', 'nd', 'the', 'sound', 'quality', 'was', 'too', 'good', 'i', 'wish', 'to', 'take', 'this', 'product', 'loved', 'this', 'product', 'read', 'more'])\n",
            " list(['awesome', 'sound', 'quality', 'pros', '78', 'hrs', 'of', 'battery', 'life', 'including', '45', 'mins', 'approx', 'call', 'timeawesome', 'sound', 'output', 'bass', 'and', 'treble', 'are', 'really', 'very', 'clear', 'without', 'equaliser', 'with', 'equaliser', 'sound', 'wary', 'depends', 'on', 'the', 'handset', 'sound', 'qualityweightless', 'to', 'carry', 'and', 'in', 'head', 'toomic', 'is', 'good', 'but', 'in', 'traffic', 'it', 'is', 'not', 'too', 'good', '325535mm', 'option', 'is', 'really', 'important', 'to', 'mention', 'really', 'expecting', 'other', 'leading', 'brands', 'to', 'implement', 'thisconsvery', 'tight', 'in', 'ears', 'adjusters', 'are', 'ok', 'this', 'll', 'be', 'very', 'tightread', 'more'])\n",
            " ... list(['goodread', 'more'])\n",
            " list(['best', 'headphone', 'i', 'have', 'ever', 'usedread', 'more'])\n",
            " list(['niceread', 'more'])]\n",
            "[5 5 4 ... 5 5 5]\n"
          ],
          "name": "stdout"
        }
      ]
    },
    {
      "cell_type": "code",
      "metadata": {
        "colab": {
          "base_uri": "https://localhost:8080/"
        },
        "id": "IS57fhEfNcZa",
        "outputId": "cc9d8eaf-fb7d-480f-a100-ce78ae8f78a7"
      },
      "source": [
        "len(x)"
      ],
      "execution_count": 18,
      "outputs": [
        {
          "output_type": "execute_result",
          "data": {
            "text/plain": [
              "9976"
            ]
          },
          "metadata": {
            "tags": []
          },
          "execution_count": 18
        }
      ]
    },
    {
      "cell_type": "code",
      "metadata": {
        "id": "VaN4Yfs_NdxZ"
      },
      "source": [
        "def dummy_fun(doc):\r\n",
        "    return doc\r\n",
        "\r\n",
        "vectorizer = TfidfVectorizer(\r\n",
        "    analyzer='word',\r\n",
        "    tokenizer=dummy_fun,\r\n",
        "    preprocessor=dummy_fun,\r\n",
        "    token_pattern=None)  \r\n",
        "\r\n",
        "x = vectorizer.fit_transform(x)"
      ],
      "execution_count": 19,
      "outputs": []
    },
    {
      "cell_type": "code",
      "metadata": {
        "id": "Sgq21d_wNrUG"
      },
      "source": [
        "x = x.toarray()"
      ],
      "execution_count": 20,
      "outputs": []
    },
    {
      "cell_type": "code",
      "metadata": {
        "colab": {
          "base_uri": "https://localhost:8080/"
        },
        "id": "FArZHyZzPDle",
        "outputId": "acc99d9e-6639-40d6-d473-a2f4ef8a18be"
      },
      "source": [
        "x.shape"
      ],
      "execution_count": 21,
      "outputs": [
        {
          "output_type": "execute_result",
          "data": {
            "text/plain": [
              "(9976, 9932)"
            ]
          },
          "metadata": {
            "tags": []
          },
          "execution_count": 21
        }
      ]
    },
    {
      "cell_type": "code",
      "metadata": {
        "id": "z6d1QKGwPIRD"
      },
      "source": [
        "\r\n",
        "\r\n",
        "x_train,x_test,y_train,y_test = train_test_split(x,y,test_size = 0.25,random_state = 0,stratify = y)"
      ],
      "execution_count": 22,
      "outputs": []
    },
    {
      "cell_type": "code",
      "metadata": {
        "colab": {
          "base_uri": "https://localhost:8080/"
        },
        "id": "QaIrr0zFPLQU",
        "outputId": "a6299d60-4f88-4c98-9b58-ea69eec2a966"
      },
      "source": [
        "print(x_train.shape)\r\n",
        "print(y_train.shape)\r\n",
        "print(x_test.shape)\r\n",
        "print(y_test.shape)"
      ],
      "execution_count": 23,
      "outputs": [
        {
          "output_type": "stream",
          "text": [
            "(7482, 9932)\n",
            "(7482,)\n",
            "(2494, 9932)\n",
            "(2494,)\n"
          ],
          "name": "stdout"
        }
      ]
    },
    {
      "cell_type": "code",
      "metadata": {
        "colab": {
          "base_uri": "https://localhost:8080/"
        },
        "id": "myrscGsePPog",
        "outputId": "8a384ea8-9284-46db-df9c-19c01c45ce20"
      },
      "source": [
        "np.unique(y_train)"
      ],
      "execution_count": 24,
      "outputs": [
        {
          "output_type": "execute_result",
          "data": {
            "text/plain": [
              "array([1, 2, 3, 4, 5])"
            ]
          },
          "metadata": {
            "tags": []
          },
          "execution_count": 24
        }
      ]
    },
    {
      "cell_type": "code",
      "metadata": {
        "id": "_bbpHHahPUB9"
      },
      "source": [
        "from sklearn.pipeline import Pipeline\r\n",
        "from sklearn.feature_extraction.text import TfidfVectorizer\r\n",
        "from sklearn.svm import SVC"
      ],
      "execution_count": 25,
      "outputs": []
    },
    {
      "cell_type": "code",
      "metadata": {
        "id": "tX2VhxhWPa9_"
      },
      "source": [
        "text_model = Pipeline([('tfidf',TfidfVectorizer()),('model',SVC())]) "
      ],
      "execution_count": 26,
      "outputs": []
    },
    {
      "cell_type": "code",
      "metadata": {
        "colab": {
          "base_uri": "https://localhost:8080/"
        },
        "id": "7-cJoAXDPeND",
        "outputId": "e7a71e24-b636-4a99-cf9b-080da1e0015b"
      },
      "source": [
        "text_model.fit(x_train_text_model,y_train_text_model)"
      ],
      "execution_count": 27,
      "outputs": [
        {
          "output_type": "execute_result",
          "data": {
            "text/plain": [
              "Pipeline(memory=None,\n",
              "         steps=[('tfidf',\n",
              "                 TfidfVectorizer(analyzer='word', binary=False,\n",
              "                                 decode_error='strict',\n",
              "                                 dtype=<class 'numpy.float64'>,\n",
              "                                 encoding='utf-8', input='content',\n",
              "                                 lowercase=True, max_df=1.0, max_features=None,\n",
              "                                 min_df=1, ngram_range=(1, 1), norm='l2',\n",
              "                                 preprocessor=None, smooth_idf=True,\n",
              "                                 stop_words=None, strip_accents=None,\n",
              "                                 sublinear_tf=False,\n",
              "                                 token_pattern='(?u)\\\\b\\\\w\\\\w+\\\\b',\n",
              "                                 tokenizer=None, use_idf=True,\n",
              "                                 vocabulary=None)),\n",
              "                ('model',\n",
              "                 SVC(C=1.0, break_ties=False, cache_size=200, class_weight=None,\n",
              "                     coef0=0.0, decision_function_shape='ovr', degree=3,\n",
              "                     gamma='scale', kernel='rbf', max_iter=-1,\n",
              "                     probability=False, random_state=None, shrinking=True,\n",
              "                     tol=0.001, verbose=False))],\n",
              "         verbose=False)"
            ]
          },
          "metadata": {
            "tags": []
          },
          "execution_count": 27
        }
      ]
    },
    {
      "cell_type": "code",
      "metadata": {
        "colab": {
          "base_uri": "https://localhost:8080/"
        },
        "id": "xhYM1GyQPgfz",
        "outputId": "0a190540-8652-4a52-ea0d-27cbc1e1fbf8"
      },
      "source": [
        "y_pred = text_model.predict(x_test_text_model)\r\n",
        "y_pred"
      ],
      "execution_count": 28,
      "outputs": [
        {
          "output_type": "execute_result",
          "data": {
            "text/plain": [
              "array([5, 3, 4, ..., 5, 5, 5])"
            ]
          },
          "metadata": {
            "tags": []
          },
          "execution_count": 28
        }
      ]
    },
    {
      "cell_type": "code",
      "metadata": {
        "colab": {
          "base_uri": "https://localhost:8080/"
        },
        "id": "ycrBPp_8PmBt",
        "outputId": "4e703074-db1d-448e-a65e-68c29f64a479"
      },
      "source": [
        "from sklearn.metrics import accuracy_score,classification_report,confusion_matrix\r\n",
        "accuracy_score(y_pred,y_test_text_model)*100"
      ],
      "execution_count": 29,
      "outputs": [
        {
          "output_type": "execute_result",
          "data": {
            "text/plain": [
              "65.35685645549319"
            ]
          },
          "metadata": {
            "tags": []
          },
          "execution_count": 29
        }
      ]
    },
    {
      "cell_type": "code",
      "metadata": {
        "colab": {
          "base_uri": "https://localhost:8080/"
        },
        "id": "x_7eg6m-PpiL",
        "outputId": "10b69847-f954-4115-cfad-ca41920e1d3a"
      },
      "source": [
        "confusion_matrix(y_pred,y_test_text_model)"
      ],
      "execution_count": 30,
      "outputs": [
        {
          "output_type": "execute_result",
          "data": {
            "text/plain": [
              "array([[ 104,   16,   20,    8,    1],\n",
              "       [   1,    4,    0,    0,    0],\n",
              "       [  12,   16,   37,   15,    5],\n",
              "       [  13,   13,   57,  146,   86],\n",
              "       [  43,   29,  107,  422, 1339]])"
            ]
          },
          "metadata": {
            "tags": []
          },
          "execution_count": 30
        }
      ]
    },
    {
      "cell_type": "code",
      "metadata": {
        "id": "AbiqddDuPt9H"
      },
      "source": [
        "# print(classification_report(y_pred,y_test))"
      ],
      "execution_count": 31,
      "outputs": []
    },
    {
      "cell_type": "code",
      "metadata": {
        "id": "OHpaoG82n11B"
      },
      "source": [
        "# text_model.predict([\"Very bad product.  Within 5 days it's mic was out of work. I am very disappointed tobuythisproduct. I will never suggest to anyone for buying this product.\"])"
      ],
      "execution_count": 32,
      "outputs": []
    },
    {
      "cell_type": "code",
      "metadata": {
        "id": "VqgH_KFFP34G"
      },
      "source": [
        "y_train_1 = keras.utils.to_categorical(y_train)\r\n",
        "y_test_1 = keras.utils.to_categorical(y_test)"
      ],
      "execution_count": 33,
      "outputs": []
    },
    {
      "cell_type": "code",
      "metadata": {
        "id": "iwdH1fX1P9aJ"
      },
      "source": [
        "y_train_1 = y_train_1[:, 1:]\r\n",
        "y_test_1 = y_test_1[:, 1:]"
      ],
      "execution_count": 34,
      "outputs": []
    },
    {
      "cell_type": "code",
      "metadata": {
        "id": "Ar9QY83PQCko"
      },
      "source": [
        "model = keras.models.Sequential([keras.layers.BatchNormalization(input_dim=x_train.shape[1]),\r\n",
        "                                 keras.layers.Dense(100,kernel_initializer=\"he_normal\"),\r\n",
        "                                 keras.layers.PReLU(),\r\n",
        "                                 keras.layers.BatchNormalization(),\r\n",
        "                                 keras.layers.Dropout(0.2),\r\n",
        "                                 keras.layers.Dense(50,kernel_initializer=\"he_normal\"),\r\n",
        "                                 keras.layers.PReLU(),\r\n",
        "                                 keras.layers.BatchNormalization(),\r\n",
        "                                 keras.layers.Dense(5, \"softmax\"),\r\n",
        "                                 ])\r\n",
        "\r\n",
        "model.compile(loss=\"categorical_crossentropy\",\r\n",
        "              optimizer=keras.optimizers.Adam(),\r\n",
        "              metrics=[\"accuracy\"])\r\n",
        "\r\n",
        "early_stopping_cb = keras.callbacks.EarlyStopping(patience=10, restore_best_weights=True)\r\n"
      ],
      "execution_count": 35,
      "outputs": []
    },
    {
      "cell_type": "code",
      "metadata": {
        "colab": {
          "base_uri": "https://localhost:8080/"
        },
        "id": "A4mtcQtfQD6L",
        "outputId": "74e78ca2-ee9a-48e7-a073-1285c2a1e590"
      },
      "source": [
        "model.summary()"
      ],
      "execution_count": 36,
      "outputs": [
        {
          "output_type": "stream",
          "text": [
            "Model: \"sequential\"\n",
            "_________________________________________________________________\n",
            "Layer (type)                 Output Shape              Param #   \n",
            "=================================================================\n",
            "batch_normalization (BatchNo (None, 9932)              39728     \n",
            "_________________________________________________________________\n",
            "dense (Dense)                (None, 100)               993300    \n",
            "_________________________________________________________________\n",
            "p_re_lu (PReLU)              (None, 100)               100       \n",
            "_________________________________________________________________\n",
            "batch_normalization_1 (Batch (None, 100)               400       \n",
            "_________________________________________________________________\n",
            "dropout (Dropout)            (None, 100)               0         \n",
            "_________________________________________________________________\n",
            "dense_1 (Dense)              (None, 50)                5050      \n",
            "_________________________________________________________________\n",
            "p_re_lu_1 (PReLU)            (None, 50)                50        \n",
            "_________________________________________________________________\n",
            "batch_normalization_2 (Batch (None, 50)                200       \n",
            "_________________________________________________________________\n",
            "dense_2 (Dense)              (None, 5)                 255       \n",
            "=================================================================\n",
            "Total params: 1,039,083\n",
            "Trainable params: 1,018,919\n",
            "Non-trainable params: 20,164\n",
            "_________________________________________________________________\n"
          ],
          "name": "stdout"
        }
      ]
    },
    {
      "cell_type": "code",
      "metadata": {
        "colab": {
          "base_uri": "https://localhost:8080/"
        },
        "id": "uEIKXVQbQJFS",
        "outputId": "41031f48-b9e0-435d-d430-e25ead160d7f"
      },
      "source": [
        "history = model.fit(x_train, y_train_1, validation_data=(x_test, y_test_1), epochs=50, callbacks=[early_stopping_cb])"
      ],
      "execution_count": 37,
      "outputs": [
        {
          "output_type": "stream",
          "text": [
            "Epoch 1/50\n",
            "234/234 [==============================] - 6s 20ms/step - loss: 1.5786 - accuracy: 0.4410 - val_loss: 1.1296 - val_accuracy: 0.5878\n",
            "Epoch 2/50\n",
            "234/234 [==============================] - 4s 17ms/step - loss: 0.7362 - accuracy: 0.7364 - val_loss: 0.9874 - val_accuracy: 0.6207\n",
            "Epoch 3/50\n",
            "234/234 [==============================] - 4s 17ms/step - loss: 0.5412 - accuracy: 0.8073 - val_loss: 1.2415 - val_accuracy: 0.5998\n",
            "Epoch 4/50\n",
            "234/234 [==============================] - 4s 19ms/step - loss: 0.4564 - accuracy: 0.8384 - val_loss: 1.4412 - val_accuracy: 0.5998\n",
            "Epoch 5/50\n",
            "234/234 [==============================] - 4s 19ms/step - loss: 0.4033 - accuracy: 0.8508 - val_loss: 1.5893 - val_accuracy: 0.5958\n",
            "Epoch 6/50\n",
            "234/234 [==============================] - 4s 16ms/step - loss: 0.3692 - accuracy: 0.8661 - val_loss: 1.7356 - val_accuracy: 0.5277\n",
            "Epoch 7/50\n",
            "234/234 [==============================] - 4s 17ms/step - loss: 0.3700 - accuracy: 0.8611 - val_loss: 1.7513 - val_accuracy: 0.5958\n",
            "Epoch 8/50\n",
            "234/234 [==============================] - 4s 17ms/step - loss: 0.3669 - accuracy: 0.8586 - val_loss: 1.8089 - val_accuracy: 0.5790\n",
            "Epoch 9/50\n",
            "234/234 [==============================] - 4s 19ms/step - loss: 0.3371 - accuracy: 0.8756 - val_loss: 2.4030 - val_accuracy: 0.4322\n",
            "Epoch 10/50\n",
            "234/234 [==============================] - 4s 17ms/step - loss: 0.3275 - accuracy: 0.8788 - val_loss: 2.0345 - val_accuracy: 0.5549\n",
            "Epoch 11/50\n",
            "234/234 [==============================] - 4s 17ms/step - loss: 0.3228 - accuracy: 0.8809 - val_loss: 2.1939 - val_accuracy: 0.5746\n",
            "Epoch 12/50\n",
            "234/234 [==============================] - 4s 16ms/step - loss: 0.3037 - accuracy: 0.8813 - val_loss: 2.1329 - val_accuracy: 0.5553\n"
          ],
          "name": "stdout"
        }
      ]
    },
    {
      "cell_type": "code",
      "metadata": {
        "colab": {
          "base_uri": "https://localhost:8080/",
          "height": 269
        },
        "id": "TZaIcL4xQNs2",
        "outputId": "0a8c815f-3fb7-4aa9-e41e-0b38d9bf3888"
      },
      "source": [
        "\r\n",
        "import matplotlib.pyplot as plt\r\n",
        "\r\n",
        "pd.DataFrame(history.history).plot();"
      ],
      "execution_count": 38,
      "outputs": [
        {
          "output_type": "display_data",
          "data": {
            "image/png": "[encoded data removed]",
            "text/plain": [
              "<Figure size 432x288 with 1 Axes>"
            ]
          },
          "metadata": {
            "tags": [],
            "needs_background": "light"
          }
        }
      ]
    },
    {
      "cell_type": "code",
      "metadata": {
        "colab": {
          "base_uri": "https://localhost:8080/",
          "height": 1000
        },
        "id": "sY8T8NI-Qbrs",
        "outputId": "56fd8188-4e1d-48f1-d623-5b00ce032ec8"
      },
      "source": [
        "!pip install streamlit\r\n",
        "!pip install pyngrok==4.1.1\r\n",
        "from pyngrok import ngrok"
      ],
      "execution_count": 39,
      "outputs": [
        {
          "output_type": "stream",
          "text": [
            "Collecting streamlit\n",
            "\u001b[?25l  Downloading https://files.pythonhosted.org/packages/5f/3c/f0a97b684a49bd043bef9f8b8f4092b8a25bee9ad9a3f5e121a7161ded8f/streamlit-0.78.0-py2.py3-none-any.whl (7.5MB)\n",
            "\u001b[K     |████████████████████████████████| 7.5MB 5.6MB/s \n",
            "\u001b[?25hRequirement already satisfied: toml in /usr/local/lib/python3.7/dist-packages (from streamlit) (0.10.2)\n",
            "Requirement already satisfied: tzlocal in /usr/local/lib/python3.7/dist-packages (from streamlit) (1.5.1)\n",
            "Requirement already satisfied: protobuf!=3.11,>=3.6.0 in /usr/local/lib/python3.7/dist-packages (from streamlit) (3.12.4)\n",
            "Requirement already satisfied: altair>=3.2.0 in /usr/local/lib/python3.7/dist-packages (from streamlit) (4.1.0)\n",
            "Requirement already satisfied: click>=7.0 in /usr/local/lib/python3.7/dist-packages (from streamlit) (7.1.2)\n",
            "Collecting gitpython\n",
            "\u001b[?25l  Downloading https://files.pythonhosted.org/packages/a6/99/98019716955ba243657daedd1de8f3a88ca1f5b75057c38e959db22fb87b/GitPython-3.1.14-py3-none-any.whl (159kB)\n",
            "\u001b[K     |████████████████████████████████| 163kB 51.4MB/s \n",
            "\u001b[?25hRequirement already satisfied: pillow>=6.2.0 in /usr/local/lib/python3.7/dist-packages (from streamlit) (7.0.0)\n",
            "Collecting blinker\n",
            "\u001b[?25l  Downloading https://files.pythonhosted.org/packages/1b/51/e2a9f3b757eb802f61dc1f2b09c8c99f6eb01cf06416c0671253536517b6/blinker-1.4.tar.gz (111kB)\n",
            "\u001b[K     |████████████████████████████████| 112kB 48.6MB/s \n",
            "\u001b[?25hRequirement already satisfied: numpy in /usr/local/lib/python3.7/dist-packages (from streamlit) (1.19.5)\n",
            "Requirement already satisfied: cachetools>=4.0 in /usr/local/lib/python3.7/dist-packages (from streamlit) (4.2.1)\n",
            "Collecting watchdog; platform_system != \"Darwin\"\n",
            "\u001b[?25l  Downloading https://files.pythonhosted.org/packages/c6/ba/a36ca5b4e75649a002f06531862467b3eb5c768caa23d6d88b921fe238d8/watchdog-2.0.2-py3-none-manylinux2014_x86_64.whl (74kB)\n",
            "\u001b[K     |████████████████████████████████| 81kB 6.7MB/s \n",
            "\u001b[?25hRequirement already satisfied: pyarrow; python_version < \"3.9\" in /usr/local/lib/python3.7/dist-packages (from streamlit) (3.0.0)\n",
            "Requirement already satisfied: requests in /usr/local/lib/python3.7/dist-packages (from streamlit) (2.23.0)\n",
            "Collecting validators\n",
            "  Downloading https://files.pythonhosted.org/packages/db/2f/7fed3ee94ad665ad2c1de87f858f10a7785251ff75b4fd47987888d07ef1/validators-0.18.2-py3-none-any.whl\n",
            "Requirement already satisfied: packaging in /usr/local/lib/python3.7/dist-packages (from streamlit) (20.9)\n",
            "Requirement already satisfied: tornado>=5.0 in /usr/local/lib/python3.7/dist-packages (from streamlit) (5.1.1)\n",
            "Collecting base58\n",
            "  Downloading https://files.pythonhosted.org/packages/b8/a1/d9f565e9910c09fd325dc638765e8843a19fa696275c16cc08cf3b0a3c25/base58-2.1.0-py3-none-any.whl\n",
            "Requirement already satisfied: pandas>=0.21.0 in /usr/local/lib/python3.7/dist-packages (from streamlit) (1.1.5)\n",
            "Collecting pydeck>=0.1.dev5\n",
            "\u001b[?25l  Downloading https://files.pythonhosted.org/packages/1c/3f/8f04ae0c22d82ec7bec7fcc03270a142f637e362bbd285f7daeeda24fbef/pydeck-0.6.1-py2.py3-none-any.whl (4.6MB)\n",
            "\u001b[K     |████████████████████████████████| 4.6MB 37.8MB/s \n",
            "\u001b[?25hRequirement already satisfied: astor in /usr/local/lib/python3.7/dist-packages (from streamlit) (0.8.1)\n",
            "Requirement already satisfied: python-dateutil in /usr/local/lib/python3.7/dist-packages (from streamlit) (2.8.1)\n",
            "Requirement already satisfied: pytz in /usr/local/lib/python3.7/dist-packages (from tzlocal->streamlit) (2018.9)\n",
            "Requirement already satisfied: six>=1.9 in /usr/local/lib/python3.7/dist-packages (from protobuf!=3.11,>=3.6.0->streamlit) (1.15.0)\n",
            "Requirement already satisfied: setuptools in /usr/local/lib/python3.7/dist-packages (from protobuf!=3.11,>=3.6.0->streamlit) (54.0.0)\n",
            "Requirement already satisfied: jsonschema in /usr/local/lib/python3.7/dist-packages (from altair>=3.2.0->streamlit) (2.6.0)\n",
            "Requirement already satisfied: toolz in /usr/local/lib/python3.7/dist-packages (from altair>=3.2.0->streamlit) (0.11.1)\n",
            "Requirement already satisfied: jinja2 in /usr/local/lib/python3.7/dist-packages (from altair>=3.2.0->streamlit) (2.11.3)\n",
            "Requirement already satisfied: entrypoints in /usr/local/lib/python3.7/dist-packages (from altair>=3.2.0->streamlit) (0.3)\n",
            "Collecting gitdb<5,>=4.0.1\n",
            "\u001b[?25l  Downloading https://files.pythonhosted.org/packages/48/11/d1800bca0a3bae820b84b7d813ad1eff15a48a64caea9c823fc8c1b119e8/gitdb-4.0.5-py3-none-any.whl (63kB)\n",
            "\u001b[K     |████████████████████████████████| 71kB 6.5MB/s \n",
            "\u001b[?25hRequirement already satisfied: certifi>=2017.4.17 in /usr/local/lib/python3.7/dist-packages (from requests->streamlit) (2020.12.5)\n",
            "Requirement already satisfied: chardet<4,>=3.0.2 in /usr/local/lib/python3.7/dist-packages (from requests->streamlit) (3.0.4)\n",
            "Requirement already satisfied: urllib3!=1.25.0,!=1.25.1,<1.26,>=1.21.1 in /usr/local/lib/python3.7/dist-packages (from requests->streamlit) (1.24.3)\n",
            "Requirement already satisfied: idna<3,>=2.5 in /usr/local/lib/python3.7/dist-packages (from requests->streamlit) (2.10)\n",
            "Requirement already satisfied: decorator>=3.4.0 in /usr/local/lib/python3.7/dist-packages (from validators->streamlit) (4.4.2)\n",
            "Requirement already satisfied: pyparsing>=2.0.2 in /usr/local/lib/python3.7/dist-packages (from packaging->streamlit) (2.4.7)\n",
            "Requirement already satisfied: ipywidgets>=7.0.0 in /usr/local/lib/python3.7/dist-packages (from pydeck>=0.1.dev5->streamlit) (7.6.3)\n",
            "Requirement already satisfied: traitlets>=4.3.2 in /usr/local/lib/python3.7/dist-packages (from pydeck>=0.1.dev5->streamlit) (5.0.5)\n",
            "Collecting ipykernel>=5.1.2; python_version >= \"3.4\"\n",
            "\u001b[?25l  Downloading https://files.pythonhosted.org/packages/56/95/3a670c8b2c2370bd8631c313f42e60983b3113ffec4035940592252bd6d5/ipykernel-5.5.0-py3-none-any.whl (120kB)\n",
            "\u001b[K     |████████████████████████████████| 122kB 49.8MB/s \n",
            "\u001b[?25hRequirement already satisfied: MarkupSafe>=0.23 in /usr/local/lib/python3.7/dist-packages (from jinja2->altair>=3.2.0->streamlit) (1.1.1)\n",
            "Collecting smmap<4,>=3.0.1\n",
            "  Downloading https://files.pythonhosted.org/packages/d5/1e/6130925131f639b2acde0f7f18b73e33ce082ff2d90783c436b52040af5a/smmap-3.0.5-py2.py3-none-any.whl\n",
            "Requirement already satisfied: ipython>=4.0.0; python_version >= \"3.3\" in /usr/local/lib/python3.7/dist-packages (from ipywidgets>=7.0.0->pydeck>=0.1.dev5->streamlit) (5.5.0)\n",
            "Requirement already satisfied: nbformat>=4.2.0 in /usr/local/lib/python3.7/dist-packages (from ipywidgets>=7.0.0->pydeck>=0.1.dev5->streamlit) (5.1.2)\n",
            "Requirement already satisfied: jupyterlab-widgets>=1.0.0; python_version >= \"3.6\" in /usr/local/lib/python3.7/dist-packages (from ipywidgets>=7.0.0->pydeck>=0.1.dev5->streamlit) (1.0.0)\n",
            "Requirement already satisfied: widgetsnbextension~=3.5.0 in /usr/local/lib/python3.7/dist-packages (from ipywidgets>=7.0.0->pydeck>=0.1.dev5->streamlit) (3.5.1)\n",
            "Requirement already satisfied: ipython-genutils in /usr/local/lib/python3.7/dist-packages (from traitlets>=4.3.2->pydeck>=0.1.dev5->streamlit) (0.2.0)\n",
            "Requirement already satisfied: jupyter-client in /usr/local/lib/python3.7/dist-packages (from ipykernel>=5.1.2; python_version >= \"3.4\"->pydeck>=0.1.dev5->streamlit) (5.3.5)\n",
            "Requirement already satisfied: pexpect; sys_platform != \"win32\" in /usr/local/lib/python3.7/dist-packages (from ipython>=4.0.0; python_version >= \"3.3\"->ipywidgets>=7.0.0->pydeck>=0.1.dev5->streamlit) (4.8.0)\n",
            "Requirement already satisfied: pickleshare in /usr/local/lib/python3.7/dist-packages (from ipython>=4.0.0; python_version >= \"3.3\"->ipywidgets>=7.0.0->pydeck>=0.1.dev5->streamlit) (0.7.5)\n",
            "Requirement already satisfied: pygments in /usr/local/lib/python3.7/dist-packages (from ipython>=4.0.0; python_version >= \"3.3\"->ipywidgets>=7.0.0->pydeck>=0.1.dev5->streamlit) (2.6.1)\n",
            "Requirement already satisfied: prompt-toolkit<2.0.0,>=1.0.4 in /usr/local/lib/python3.7/dist-packages (from ipython>=4.0.0; python_version >= \"3.3\"->ipywidgets>=7.0.0->pydeck>=0.1.dev5->streamlit) (1.0.18)\n",
            "Requirement already satisfied: simplegeneric>0.8 in /usr/local/lib/python3.7/dist-packages (from ipython>=4.0.0; python_version >= \"3.3\"->ipywidgets>=7.0.0->pydeck>=0.1.dev5->streamlit) (0.8.1)\n",
            "Requirement already satisfied: jupyter-core in /usr/local/lib/python3.7/dist-packages (from nbformat>=4.2.0->ipywidgets>=7.0.0->pydeck>=0.1.dev5->streamlit) (4.7.1)\n",
            "Requirement already satisfied: notebook>=4.4.1 in /usr/local/lib/python3.7/dist-packages (from widgetsnbextension~=3.5.0->ipywidgets>=7.0.0->pydeck>=0.1.dev5->streamlit) (5.3.1)\n",
            "Requirement already satisfied: pyzmq>=13 in /usr/local/lib/python3.7/dist-packages (from jupyter-client->ipykernel>=5.1.2; python_version >= \"3.4\"->pydeck>=0.1.dev5->streamlit) (22.0.3)\n",
            "Requirement already satisfied: ptyprocess>=0.5 in /usr/local/lib/python3.7/dist-packages (from pexpect; sys_platform != \"win32\"->ipython>=4.0.0; python_version >= \"3.3\"->ipywidgets>=7.0.0->pydeck>=0.1.dev5->streamlit) (0.7.0)\n",
            "Requirement already satisfied: wcwidth in /usr/local/lib/python3.7/dist-packages (from prompt-toolkit<2.0.0,>=1.0.4->ipython>=4.0.0; python_version >= \"3.3\"->ipywidgets>=7.0.0->pydeck>=0.1.dev5->streamlit) (0.2.5)\n",
            "Requirement already satisfied: Send2Trash in /usr/local/lib/python3.7/dist-packages (from notebook>=4.4.1->widgetsnbextension~=3.5.0->ipywidgets>=7.0.0->pydeck>=0.1.dev5->streamlit) (1.5.0)\n",
            "Requirement already satisfied: terminado>=0.8.1 in /usr/local/lib/python3.7/dist-packages (from notebook>=4.4.1->widgetsnbextension~=3.5.0->ipywidgets>=7.0.0->pydeck>=0.1.dev5->streamlit) (0.9.2)\n",
            "Requirement already satisfied: nbconvert in /usr/local/lib/python3.7/dist-packages (from notebook>=4.4.1->widgetsnbextension~=3.5.0->ipywidgets>=7.0.0->pydeck>=0.1.dev5->streamlit) (5.6.1)\n",
            "Requirement already satisfied: bleach in /usr/local/lib/python3.7/dist-packages (from nbconvert->notebook>=4.4.1->widgetsnbextension~=3.5.0->ipywidgets>=7.0.0->pydeck>=0.1.dev5->streamlit) (3.3.0)\n",
            "Requirement already satisfied: defusedxml in /usr/local/lib/python3.7/dist-packages (from nbconvert->notebook>=4.4.1->widgetsnbextension~=3.5.0->ipywidgets>=7.0.0->pydeck>=0.1.dev5->streamlit) (0.7.0)\n",
            "Requirement already satisfied: mistune<2,>=0.8.1 in /usr/local/lib/python3.7/dist-packages (from nbconvert->notebook>=4.4.1->widgetsnbextension~=3.5.0->ipywidgets>=7.0.0->pydeck>=0.1.dev5->streamlit) (0.8.4)\n",
            "Requirement already satisfied: pandocfilters>=1.4.1 in /usr/local/lib/python3.7/dist-packages (from nbconvert->notebook>=4.4.1->widgetsnbextension~=3.5.0->ipywidgets>=7.0.0->pydeck>=0.1.dev5->streamlit) (1.4.3)\n",
            "Requirement already satisfied: testpath in /usr/local/lib/python3.7/dist-packages (from nbconvert->notebook>=4.4.1->widgetsnbextension~=3.5.0->ipywidgets>=7.0.0->pydeck>=0.1.dev5->streamlit) (0.4.4)\n",
            "Requirement already satisfied: webencodings in /usr/local/lib/python3.7/dist-packages (from bleach->nbconvert->notebook>=4.4.1->widgetsnbextension~=3.5.0->ipywidgets>=7.0.0->pydeck>=0.1.dev5->streamlit) (0.5.1)\n",
            "Building wheels for collected packages: blinker\n",
            "  Building wheel for blinker (setup.py) ... \u001b[?25l\u001b[?25hdone\n",
            "  Created wheel for blinker: filename=blinker-1.4-cp37-none-any.whl size=13448 sha256=45401788a1efe7974dd300fc9fab9a26afe31723da36716178026cacabda64e8\n",
            "  Stored in directory: /root/.cache/pip/wheels/92/a0/00/8690a57883956a301d91cf4ec999cc0b258b01e3f548f86e89\n",
            "Successfully built blinker\n",
            "\u001b[31mERROR: google-colab 1.0.0 has requirement ipykernel~=4.10, but you'll have ipykernel 5.5.0 which is incompatible.\u001b[0m\n",
            "Installing collected packages: smmap, gitdb, gitpython, blinker, watchdog, validators, base58, ipykernel, pydeck, streamlit\n",
            "  Found existing installation: ipykernel 4.10.1\n",
            "    Uninstalling ipykernel-4.10.1:\n",
            "      Successfully uninstalled ipykernel-4.10.1\n",
            "Successfully installed base58-2.1.0 blinker-1.4 gitdb-4.0.5 gitpython-3.1.14 ipykernel-5.5.0 pydeck-0.6.1 smmap-3.0.5 streamlit-0.78.0 validators-0.18.2 watchdog-2.0.2\n"
          ],
          "name": "stdout"
        },
        {
          "output_type": "display_data",
          "data": {
            "application/vnd.colab-display-data+json": {
              "pip_warning": {
                "packages": [
                  "ipykernel"
                ]
              }
            }
          },
          "metadata": {
            "tags": []
          }
        },
        {
          "output_type": "stream",
          "text": [
            "Collecting pyngrok==4.1.1\n",
            "  Downloading https://files.pythonhosted.org/packages/e4/a9/de2e15c92eb3aa4a2646ce3a7542317eb69ac47f667578ce8bf916320847/pyngrok-4.1.1.tar.gz\n",
            "Requirement already satisfied: future in /usr/local/lib/python3.7/dist-packages (from pyngrok==4.1.1) (0.16.0)\n",
            "Requirement already satisfied: PyYAML in /usr/local/lib/python3.7/dist-packages (from pyngrok==4.1.1) (3.13)\n",
            "Building wheels for collected packages: pyngrok\n",
            "  Building wheel for pyngrok (setup.py) ... \u001b[?25l\u001b[?25hdone\n",
            "  Created wheel for pyngrok: filename=pyngrok-4.1.1-cp37-none-any.whl size=15971 sha256=6f03c0cb6ee390f6eacbbf41181305e505649ab8b94f848e599b71c649691f6e\n",
            "  Stored in directory: /root/.cache/pip/wheels/97/71/0d/1695f7c8815c0beb3b5d9b35d6eec9243c87e6070fbe3977fa\n",
            "Successfully built pyngrok\n",
            "Installing collected packages: pyngrok\n",
            "Successfully installed pyngrok-4.1.1\n"
          ],
          "name": "stdout"
        }
      ]
    },
    {
      "cell_type": "code",
      "metadata": {
        "colab": {
          "base_uri": "https://localhost:8080/"
        },
        "id": "IoF4DSAN-wlU",
        "outputId": "e79d79ef-ae5a-408b-b591-ef012a884666"
      },
      "source": [
        "%%writefile app.py\r\n",
        "\r\n",
        "import streamlit as st\r\n",
        "import pandas as pd\r\n",
        "import numpy as np\r\n",
        "from sklearn.feature_extraction.text import TfidfVectorizer\r\n",
        "import tensorflow as tf\r\n",
        "from tensorflow import keras\r\n",
        "\r\n",
        "import nltk\r\n",
        "nltk.download('stopwords')\r\n",
        "from nltk.corpus import stopwords\r\n",
        "import nltk\r\n",
        "from nltk.tokenize import RegexpTokenizer\r\n",
        "from nltk.stem import WordNetLemmatizer\r\n",
        "from nltk.stem.porter import PorterStemmer\r\n",
        "import string\r\n",
        "\r\n",
        "from sklearn.feature_extraction.text import TfidfVectorizer\r\n",
        "from sklearn.model_selection import train_test_split\r\n",
        "\r\n",
        "df = pd.read_csv('/content/drive/MyDrive/data.csv')\r\n",
        "\r\n",
        "def remove_punctuations(text):\r\n",
        "    for punctuation in string.punctuation:\r\n",
        "        text = text.replace(punctuation, '')\r\n",
        "    return text\r\n",
        "\r\n",
        "df['review'] = df['review'].apply(remove_punctuations)\r\n",
        "\r\n",
        "tokenizer=RegexpTokenizer(r'\\w+')\r\n",
        "df['review']=df['review'].apply(lambda x: tokenizer.tokenize(x.lower()))\r\n",
        "\r\n",
        "def removestopwords(s):\r\n",
        "  words=[i for i in s if i not in stopwords.words('english')]\r\n",
        "  print(words)\r\n",
        "  return words\r\n",
        "\r\n",
        "x = df.iloc[:,0].values\r\n",
        "y = df.iloc[:,1].values\r\n",
        "\r\n",
        "def dummy_fun(doc):\r\n",
        "    return doc\r\n",
        "\r\n",
        "vectorizer = TfidfVectorizer(\r\n",
        "    analyzer='word',\r\n",
        "    tokenizer=dummy_fun,\r\n",
        "    preprocessor=dummy_fun,\r\n",
        "    token_pattern=None)  \r\n",
        "\r\n",
        "x = vectorizer.fit_transform(x)\r\n",
        "x = x.toarray()\r\n",
        "\r\n",
        "x_train,x_test,y_train,y_test = train_test_split(x,y,test_size = 0.05,random_state = 0,stratify = y)\r\n",
        "\r\n",
        "y_train = keras.utils.to_categorical(y_train)\r\n",
        "y_test = keras.utils.to_categorical(y_test)\r\n",
        "\r\n",
        "# y = keras.utils.to_categorical(y)\r\n",
        "# y = y[:, 1:]\r\n",
        "\r\n",
        "y_train = y_train[:, 1:]\r\n",
        "y_test = y_test[:, 1:]\r\n",
        "\r\n",
        "model = keras.models.Sequential([keras.layers.BatchNormalization(input_dim=x_train.shape[1]),\r\n",
        "                                 keras.layers.Dense(100,kernel_initializer=\"he_normal\"),\r\n",
        "                                 keras.layers.PReLU(),\r\n",
        "                                 keras.layers.BatchNormalization(),\r\n",
        "                                 keras.layers.Dropout(0.2),\r\n",
        "                                 keras.layers.Dense(50,kernel_initializer=\"he_normal\"),\r\n",
        "                                 keras.layers.PReLU(),\r\n",
        "                                 keras.layers.BatchNormalization(),\r\n",
        "                                 keras.layers.Dense(5, \"softmax\"),\r\n",
        "                                 ])\r\n",
        "\r\n",
        "model.compile(loss=\"categorical_crossentropy\",\r\n",
        "              optimizer=keras.optimizers.Adam(),\r\n",
        "              metrics=\"accuracy\")\r\n",
        "\r\n",
        "early_stopping_cb = keras.callbacks.EarlyStopping(patience=10, restore_best_weights=True)\r\n",
        "\r\n",
        "history = model.fit(x_train, y_train,validation_data=(x_test,y_test),\r\n",
        "                    epochs=50, callbacks=[early_stopping_cb])\r\n",
        "\r\n",
        "st.title('sentiment analysis')\r\n",
        "select = st.text_input('Enter your message')\r\n",
        "\r\n",
        "select = remove_punctuations(select)\r\n",
        "select = tokenizer.tokenize(select.lower())\r\n",
        "\r\n",
        "select = vectorizer.transform([select]).toarray()\r\n",
        "output = np.argmax(model.predict(select), axis=-1)\r\n",
        "\r\n",
        "st.title(output[0])\r\n"
      ],
      "execution_count": 40,
      "outputs": [
        {
          "output_type": "stream",
          "text": [
            "Writing app.py\n"
          ],
          "name": "stdout"
        }
      ]
    },
    {
      "cell_type": "code",
      "metadata": {
        "colab": {
          "base_uri": "https://localhost:8080/",
          "height": 52
        },
        "id": "m5FUqZkpQ6ja",
        "outputId": "62879dfe-5bac-484c-d971-16412fd780a7"
      },
      "source": [
        "!nohup streamlit run app.py &\r\n",
        "url = ngrok.connect(port='8501')\r\n",
        "url"
      ],
      "execution_count": 41,
      "outputs": [
        {
          "output_type": "stream",
          "text": [
            "nohup: appending output to 'nohup.out'\n"
          ],
          "name": "stdout"
        },
        {
          "output_type": "execute_result",
          "data": {
            "application/vnd.google.colaboratory.intrinsic+json": {
              "type": "string"
            },
            "text/plain": [
              "'http://fcf2a2e1c8b3.ngrok.io'"
            ]
          },
          "metadata": {
            "tags": []
          },
          "execution_count": 41
        }
      ]
    },
    {
      "cell_type": "code",
      "metadata": {
        "id": "gaxbuZz3GKEe",
        "colab": {
          "base_uri": "https://localhost:8080/"
        },
        "outputId": "9573315a-2085-4596-faa8-0de8f04aa3d8"
      },
      "source": [
        "df = pd.read_csv('/content/drive/MyDrive/data.csv')\n",
        " \n",
        "def remove_punctuations(text):\n",
        "    for punctuation in string.punctuation:\n",
        "        text = text.replace(punctuation, '')\n",
        "    return text\n",
        " \n",
        "df['review'] = df['review'].apply(remove_punctuations)\n",
        " \n",
        "tokenizer=RegexpTokenizer(r'\\w+')\n",
        "df['review']=df['review'].apply(lambda x: tokenizer.tokenize(x.lower()))\n",
        " \n",
        "def removestopwords(s):\n",
        "  words=[i for i in s if i not in stopwords.words('english')]\n",
        "  print(words)\n",
        "  return words\n",
        " \n",
        "x = df.iloc[:,0].values\n",
        "y = df.iloc[:,1].values\n",
        " \n",
        "def dummy_fun(doc):\n",
        "    return doc\n",
        " \n",
        "vectorizer = TfidfVectorizer(\n",
        "    analyzer='word',\n",
        "    tokenizer=dummy_fun,\n",
        "    preprocessor=dummy_fun,\n",
        "    token_pattern=None)  \n",
        " \n",
        "x = vectorizer.fit_transform(x)\n",
        "x = x.toarray()\n",
        " \n",
        "x_train,x_test,y_train,y_test = train_test_split(x,y,test_size = 0.05,random_state = 0,stratify = y)\n",
        " \n",
        "y_train = keras.utils.to_categorical(y_train)\n",
        "y_test = keras.utils.to_categorical(y_test)\n",
        " \n",
        "# y = keras.utils.to_categorical(y)\n",
        "# y = y[:, 1:]\n",
        " \n",
        "y_train = y_train[:, 1:]\n",
        "y_test = y_test[:, 1:]\n",
        " \n",
        "model = keras.models.Sequential([keras.layers.BatchNormalization(input_dim=x_train.shape[1]),\n",
        "                                 keras.layers.Dense(100,kernel_initializer=\"he_normal\"),\n",
        "                                 keras.layers.PReLU(),\n",
        "                                 keras.layers.BatchNormalization(),\n",
        "                                 keras.layers.Dropout(0.2),\n",
        "                                 keras.layers.Dense(50,kernel_initializer=\"he_normal\"),\n",
        "                                 keras.layers.PReLU(),\n",
        "                                 keras.layers.BatchNormalization(),\n",
        "                                 keras.layers.Dense(5, \"softmax\"),\n",
        "                                 ])\n",
        " \n",
        "model.compile(loss=\"categorical_crossentropy\",\n",
        "              optimizer=keras.optimizers.Adam(),\n",
        "              metrics=\"accuracy\")\n",
        " \n",
        "early_stopping_cb = keras.callbacks.EarlyStopping(patience=10, restore_best_weights=True)\n",
        " \n",
        "history = model.fit(x_train, y_train,validation_data=(x_test,y_test),epochs=50, callbacks=[early_stopping_cb])"
      ],
      "execution_count": 44,
      "outputs": [
        {
          "output_type": "stream",
          "text": [
            "Epoch 1/50\n",
            "297/297 [==============================] - 6s 18ms/step - loss: 1.5035 - accuracy: 0.4673 - val_loss: 1.1073 - val_accuracy: 0.5752\n",
            "Epoch 2/50\n",
            "297/297 [==============================] - 5s 17ms/step - loss: 0.7314 - accuracy: 0.7344 - val_loss: 1.0324 - val_accuracy: 0.6313\n",
            "Epoch 3/50\n",
            "297/297 [==============================] - 5s 17ms/step - loss: 0.5487 - accuracy: 0.8018 - val_loss: 1.4055 - val_accuracy: 0.5852\n",
            "Epoch 4/50\n",
            "297/297 [==============================] - 5s 16ms/step - loss: 0.4561 - accuracy: 0.8318 - val_loss: 1.5377 - val_accuracy: 0.6072\n",
            "Epoch 5/50\n",
            "297/297 [==============================] - 5s 18ms/step - loss: 0.4199 - accuracy: 0.8429 - val_loss: 1.8177 - val_accuracy: 0.5731\n",
            "Epoch 6/50\n",
            "297/297 [==============================] - 5s 17ms/step - loss: 0.3940 - accuracy: 0.8469 - val_loss: 1.9999 - val_accuracy: 0.4910\n",
            "Epoch 7/50\n",
            "297/297 [==============================] - 5s 17ms/step - loss: 0.3823 - accuracy: 0.8550 - val_loss: 1.9215 - val_accuracy: 0.5852\n",
            "Epoch 8/50\n",
            "297/297 [==============================] - 5s 15ms/step - loss: 0.3585 - accuracy: 0.8607 - val_loss: 2.1518 - val_accuracy: 0.5752\n",
            "Epoch 9/50\n",
            "297/297 [==============================] - 5s 17ms/step - loss: 0.3618 - accuracy: 0.8678 - val_loss: 2.0818 - val_accuracy: 0.5932\n",
            "Epoch 10/50\n",
            "297/297 [==============================] - 5s 17ms/step - loss: 0.3385 - accuracy: 0.8692 - val_loss: 2.5483 - val_accuracy: 0.4369\n",
            "Epoch 11/50\n",
            "297/297 [==============================] - 6s 19ms/step - loss: 0.3386 - accuracy: 0.8677 - val_loss: 2.1951 - val_accuracy: 0.5371\n",
            "Epoch 12/50\n",
            "297/297 [==============================] - 5s 17ms/step - loss: 0.3167 - accuracy: 0.8797 - val_loss: 3.1872 - val_accuracy: 0.3507\n"
          ],
          "name": "stdout"
        }
      ]
    }
  ]
}